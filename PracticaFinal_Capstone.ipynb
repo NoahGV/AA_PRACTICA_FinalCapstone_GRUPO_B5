{
  "nbformat": 4,
  "nbformat_minor": 0,
  "metadata": {
    "colab": {
      "provenance": [],
      "toc_visible": true,
      "include_colab_link": true
    },
    "kernelspec": {
      "name": "python3",
      "display_name": "Python 3"
    },
    "language_info": {
      "name": "python"
    }
  },
  "cells": [
    {
      "cell_type": "markdown",
      "metadata": {
        "id": "view-in-github",
        "colab_type": "text"
      },
      "source": [
        "<a href=\"https://colab.research.google.com/github/NoahGV/AA_PRACTICA_FinalCapstone_GRUPO_B5/blob/main/PracticaFinal_Capstone.ipynb\" target=\"_parent\"><img src=\"https://colab.research.google.com/assets/colab-badge.svg\" alt=\"Open In Colab\"/></a>"
      ]
    },
    {
      "cell_type": "markdown",
      "source": [
        "# **PRÁCTICA FINAL: Capstone**"
      ],
      "metadata": {
        "id": "5cse223puncC"
      }
    },
    {
      "cell_type": "markdown",
      "source": [
        " GRUPO 5: Jonás García Vallejo, Lydia Sánchez-Cano Sánchez y Noah García Villanueva"
      ],
      "metadata": {
        "id": "YckK50kkwco7"
      }
    },
    {
      "cell_type": "markdown",
      "source": [
        "# PROBLEMA PROPUESTO:"
      ],
      "metadata": {
        "id": "ycFSLuMVwdiq"
      }
    },
    {
      "cell_type": "markdown",
      "source": [
        "## **Detección de discursos de odio y lenguaje ofensivo en Twitter**"
      ],
      "metadata": {
        "id": "scL3fXXSwvI0"
      }
    },
    {
      "cell_type": "markdown",
      "source": [
        "## **¿Qué datos vamos a utilizar?**\n",
        "\n",
        "Este conjunto de datos, denominado hade_speech_offensive, es una colección meticulosamente seleccionada de tweets anotados con el propósito específico de detectar discursos de odio y lenguaje ofensivo. El conjunto de datos consta principalmente de tweets en inglés y está diseñado para entrenar modelos o algoritmos de aprendizaje automático en la tarea de detección de discursos de odio. Cabe señalar que el conjunto de datos no se ha dividido en varios subconjuntos.\n",
        "\n",
        "El conjunto de datos incluye varias columnas que proporcionan información valiosa para comprender la clasificación de cada tweet.\n",
        "\n",
        "El recuento de columnas representa el número total de anotaciones proporcionadas para cada tweet, mientras que **hate_speech_count** significa cuántas anotaciones clasificaron un tweet en particular como discurso de odio. Por otro lado, **ofensiva_language_count** indica la cantidad de anotaciones que categorizan un tweet como que contiene lenguaje ofensivo. Además, **none_count** indica cuántas anotaciones no identificaron un tweet como discurso de odio ni lenguaje ofensivo."
      ],
      "metadata": {
        "id": "4ofUoboPw1-W"
      }
    },
    {
      "cell_type": "markdown",
      "source": [
        "## **Descripción del conjunto de datos:**\n",
        "\n",
        "El conjunto de datos se presenta en un formato de archivo CSV denominado 'train.csv'.\n",
        "\n",
        "\n",
        "Consiste en tweets comentados con información sobre su clasificación como discurso de odio, lenguaje ofensivo o ninguno de los dos.\n",
        "\n",
        "\n",
        "Cada fila representa un tweet junto con las anotaciones correspondientes proporcionadas por múltiples anotadores.\n",
        "\n",
        "\n",
        "Las columnas principales que serán esenciales para su análisis son:\n",
        "\n",
        "- **count** (número total de anotaciones)\n",
        "\n",
        "- **hate_speech_count** (número de anotaciones que clasifican un tweet como discurso de odio)\n",
        "- **ofensiva_language_count** (número de anotaciones que clasifican un tweet como lenguaje ofensivo)\n",
        "- **none_count** (número de anotaciones que no clasifican un tweet como incitación al odio ni como lenguaje ofensivo)."
      ],
      "metadata": {
        "id": "n2aoZTE00oE1"
      }
    },
    {
      "cell_type": "markdown",
      "source": [
        "## **Recomendaciones para el preprocesamiento:**\n",
        "\n",
        "\n",
        "Antes de entrenar modelos o algoritmos de aprendizaje automático en este conjunto de datos, se recomienda aplicar técnicas de preprocesamiento estándar, como eliminar URL, nombres de usuario/identificadores, caracteres especiales/signos de puntuación, eliminación de palabras vacías, tokenización, derivación/lematización, etc., según sus requisitos de análisis."
      ],
      "metadata": {
        "id": "QwZRdmecGqCg"
      }
    },
    {
      "cell_type": "markdown",
      "source": [
        "## **Objetivo del trabajo**\n",
        "\n",
        "Nuestro objetivo del trabajo es realizar una clasificación binaria de los comentarios de Twiter para poder detectar a través de redes neuronales si se trata de un discurso de odio o no.\n",
        "\n",
        "Para ello, nos vamos a basar en el ejemplo de la Clasificación_binaria_crítica_películas que hemos estudiado a lo largo de la asignatura de Aprendizaje Automático."
      ],
      "metadata": {
        "id": "90-LhX6uKkLI"
      }
    },
    {
      "cell_type": "markdown",
      "source": [
        "Leemos el archivo:"
      ],
      "metadata": {
        "id": "y0jiJmbWM8jd"
      }
    },
    {
      "cell_type": "code",
      "source": [
        "import pandas as pd\n",
        "# Lee el archivo CSV\n",
        "df = pd.read_csv('train.csv')\n",
        "df.head()"
      ],
      "metadata": {
        "colab": {
          "base_uri": "https://localhost:8080/",
          "height": 206
        },
        "id": "JtGaAlvwun5B",
        "outputId": "36e11363-e1eb-45db-9fb7-c0be7d4ffa0c"
      },
      "execution_count": null,
      "outputs": [
        {
          "output_type": "execute_result",
          "data": {
            "text/plain": [
              "   count  hate_speech_count  offensive_language_count  neither_count  class  \\\n",
              "0      3                  0                         0              3      2   \n",
              "1      3                  0                         3              0      1   \n",
              "2      3                  0                         3              0      1   \n",
              "3      3                  0                         2              1      1   \n",
              "4      6                  0                         6              0      1   \n",
              "\n",
              "                                               tweet  \n",
              "0  !!! RT @mayasolovely: As a woman you shouldn't...  \n",
              "1  !!!!! RT @mleew17: boy dats cold...tyga dwn ba...  \n",
              "2  !!!!!!! RT @UrKindOfBrand Dawg!!!! RT @80sbaby...  \n",
              "3  !!!!!!!!! RT @C_G_Anderson: @viva_based she lo...  \n",
              "4  !!!!!!!!!!!!! RT @ShenikaRoberts: The shit you...  "
            ],
            "text/html": [
              "\n",
              "  <div id=\"df-6715f3d3-7700-419c-b4ae-c1d4a67c1a16\" class=\"colab-df-container\">\n",
              "    <div>\n",
              "<style scoped>\n",
              "    .dataframe tbody tr th:only-of-type {\n",
              "        vertical-align: middle;\n",
              "    }\n",
              "\n",
              "    .dataframe tbody tr th {\n",
              "        vertical-align: top;\n",
              "    }\n",
              "\n",
              "    .dataframe thead th {\n",
              "        text-align: right;\n",
              "    }\n",
              "</style>\n",
              "<table border=\"1\" class=\"dataframe\">\n",
              "  <thead>\n",
              "    <tr style=\"text-align: right;\">\n",
              "      <th></th>\n",
              "      <th>count</th>\n",
              "      <th>hate_speech_count</th>\n",
              "      <th>offensive_language_count</th>\n",
              "      <th>neither_count</th>\n",
              "      <th>class</th>\n",
              "      <th>tweet</th>\n",
              "    </tr>\n",
              "  </thead>\n",
              "  <tbody>\n",
              "    <tr>\n",
              "      <th>0</th>\n",
              "      <td>3</td>\n",
              "      <td>0</td>\n",
              "      <td>0</td>\n",
              "      <td>3</td>\n",
              "      <td>2</td>\n",
              "      <td>!!! RT @mayasolovely: As a woman you shouldn't...</td>\n",
              "    </tr>\n",
              "    <tr>\n",
              "      <th>1</th>\n",
              "      <td>3</td>\n",
              "      <td>0</td>\n",
              "      <td>3</td>\n",
              "      <td>0</td>\n",
              "      <td>1</td>\n",
              "      <td>!!!!! RT @mleew17: boy dats cold...tyga dwn ba...</td>\n",
              "    </tr>\n",
              "    <tr>\n",
              "      <th>2</th>\n",
              "      <td>3</td>\n",
              "      <td>0</td>\n",
              "      <td>3</td>\n",
              "      <td>0</td>\n",
              "      <td>1</td>\n",
              "      <td>!!!!!!! RT @UrKindOfBrand Dawg!!!! RT @80sbaby...</td>\n",
              "    </tr>\n",
              "    <tr>\n",
              "      <th>3</th>\n",
              "      <td>3</td>\n",
              "      <td>0</td>\n",
              "      <td>2</td>\n",
              "      <td>1</td>\n",
              "      <td>1</td>\n",
              "      <td>!!!!!!!!! RT @C_G_Anderson: @viva_based she lo...</td>\n",
              "    </tr>\n",
              "    <tr>\n",
              "      <th>4</th>\n",
              "      <td>6</td>\n",
              "      <td>0</td>\n",
              "      <td>6</td>\n",
              "      <td>0</td>\n",
              "      <td>1</td>\n",
              "      <td>!!!!!!!!!!!!! RT @ShenikaRoberts: The shit you...</td>\n",
              "    </tr>\n",
              "  </tbody>\n",
              "</table>\n",
              "</div>\n",
              "    <div class=\"colab-df-buttons\">\n",
              "\n",
              "  <div class=\"colab-df-container\">\n",
              "    <button class=\"colab-df-convert\" onclick=\"convertToInteractive('df-6715f3d3-7700-419c-b4ae-c1d4a67c1a16')\"\n",
              "            title=\"Convert this dataframe to an interactive table.\"\n",
              "            style=\"display:none;\">\n",
              "\n",
              "  <svg xmlns=\"http://www.w3.org/2000/svg\" height=\"24px\" viewBox=\"0 -960 960 960\">\n",
              "    <path d=\"M120-120v-720h720v720H120Zm60-500h600v-160H180v160Zm220 220h160v-160H400v160Zm0 220h160v-160H400v160ZM180-400h160v-160H180v160Zm440 0h160v-160H620v160ZM180-180h160v-160H180v160Zm440 0h160v-160H620v160Z\"/>\n",
              "  </svg>\n",
              "    </button>\n",
              "\n",
              "  <style>\n",
              "    .colab-df-container {\n",
              "      display:flex;\n",
              "      gap: 12px;\n",
              "    }\n",
              "\n",
              "    .colab-df-convert {\n",
              "      background-color: #E8F0FE;\n",
              "      border: none;\n",
              "      border-radius: 50%;\n",
              "      cursor: pointer;\n",
              "      display: none;\n",
              "      fill: #1967D2;\n",
              "      height: 32px;\n",
              "      padding: 0 0 0 0;\n",
              "      width: 32px;\n",
              "    }\n",
              "\n",
              "    .colab-df-convert:hover {\n",
              "      background-color: #E2EBFA;\n",
              "      box-shadow: 0px 1px 2px rgba(60, 64, 67, 0.3), 0px 1px 3px 1px rgba(60, 64, 67, 0.15);\n",
              "      fill: #174EA6;\n",
              "    }\n",
              "\n",
              "    .colab-df-buttons div {\n",
              "      margin-bottom: 4px;\n",
              "    }\n",
              "\n",
              "    [theme=dark] .colab-df-convert {\n",
              "      background-color: #3B4455;\n",
              "      fill: #D2E3FC;\n",
              "    }\n",
              "\n",
              "    [theme=dark] .colab-df-convert:hover {\n",
              "      background-color: #434B5C;\n",
              "      box-shadow: 0px 1px 3px 1px rgba(0, 0, 0, 0.15);\n",
              "      filter: drop-shadow(0px 1px 2px rgba(0, 0, 0, 0.3));\n",
              "      fill: #FFFFFF;\n",
              "    }\n",
              "  </style>\n",
              "\n",
              "    <script>\n",
              "      const buttonEl =\n",
              "        document.querySelector('#df-6715f3d3-7700-419c-b4ae-c1d4a67c1a16 button.colab-df-convert');\n",
              "      buttonEl.style.display =\n",
              "        google.colab.kernel.accessAllowed ? 'block' : 'none';\n",
              "\n",
              "      async function convertToInteractive(key) {\n",
              "        const element = document.querySelector('#df-6715f3d3-7700-419c-b4ae-c1d4a67c1a16');\n",
              "        const dataTable =\n",
              "          await google.colab.kernel.invokeFunction('convertToInteractive',\n",
              "                                                    [key], {});\n",
              "        if (!dataTable) return;\n",
              "\n",
              "        const docLinkHtml = 'Like what you see? Visit the ' +\n",
              "          '<a target=\"_blank\" href=https://colab.research.google.com/notebooks/data_table.ipynb>data table notebook</a>'\n",
              "          + ' to learn more about interactive tables.';\n",
              "        element.innerHTML = '';\n",
              "        dataTable['output_type'] = 'display_data';\n",
              "        await google.colab.output.renderOutput(dataTable, element);\n",
              "        const docLink = document.createElement('div');\n",
              "        docLink.innerHTML = docLinkHtml;\n",
              "        element.appendChild(docLink);\n",
              "      }\n",
              "    </script>\n",
              "  </div>\n",
              "\n",
              "\n",
              "<div id=\"df-2d08d1a6-34a9-4055-add8-a3ab1cfcd95a\">\n",
              "  <button class=\"colab-df-quickchart\" onclick=\"quickchart('df-2d08d1a6-34a9-4055-add8-a3ab1cfcd95a')\"\n",
              "            title=\"Suggest charts\"\n",
              "            style=\"display:none;\">\n",
              "\n",
              "<svg xmlns=\"http://www.w3.org/2000/svg\" height=\"24px\"viewBox=\"0 0 24 24\"\n",
              "     width=\"24px\">\n",
              "    <g>\n",
              "        <path d=\"M19 3H5c-1.1 0-2 .9-2 2v14c0 1.1.9 2 2 2h14c1.1 0 2-.9 2-2V5c0-1.1-.9-2-2-2zM9 17H7v-7h2v7zm4 0h-2V7h2v10zm4 0h-2v-4h2v4z\"/>\n",
              "    </g>\n",
              "</svg>\n",
              "  </button>\n",
              "\n",
              "<style>\n",
              "  .colab-df-quickchart {\n",
              "      --bg-color: #E8F0FE;\n",
              "      --fill-color: #1967D2;\n",
              "      --hover-bg-color: #E2EBFA;\n",
              "      --hover-fill-color: #174EA6;\n",
              "      --disabled-fill-color: #AAA;\n",
              "      --disabled-bg-color: #DDD;\n",
              "  }\n",
              "\n",
              "  [theme=dark] .colab-df-quickchart {\n",
              "      --bg-color: #3B4455;\n",
              "      --fill-color: #D2E3FC;\n",
              "      --hover-bg-color: #434B5C;\n",
              "      --hover-fill-color: #FFFFFF;\n",
              "      --disabled-bg-color: #3B4455;\n",
              "      --disabled-fill-color: #666;\n",
              "  }\n",
              "\n",
              "  .colab-df-quickchart {\n",
              "    background-color: var(--bg-color);\n",
              "    border: none;\n",
              "    border-radius: 50%;\n",
              "    cursor: pointer;\n",
              "    display: none;\n",
              "    fill: var(--fill-color);\n",
              "    height: 32px;\n",
              "    padding: 0;\n",
              "    width: 32px;\n",
              "  }\n",
              "\n",
              "  .colab-df-quickchart:hover {\n",
              "    background-color: var(--hover-bg-color);\n",
              "    box-shadow: 0 1px 2px rgba(60, 64, 67, 0.3), 0 1px 3px 1px rgba(60, 64, 67, 0.15);\n",
              "    fill: var(--button-hover-fill-color);\n",
              "  }\n",
              "\n",
              "  .colab-df-quickchart-complete:disabled,\n",
              "  .colab-df-quickchart-complete:disabled:hover {\n",
              "    background-color: var(--disabled-bg-color);\n",
              "    fill: var(--disabled-fill-color);\n",
              "    box-shadow: none;\n",
              "  }\n",
              "\n",
              "  .colab-df-spinner {\n",
              "    border: 2px solid var(--fill-color);\n",
              "    border-color: transparent;\n",
              "    border-bottom-color: var(--fill-color);\n",
              "    animation:\n",
              "      spin 1s steps(1) infinite;\n",
              "  }\n",
              "\n",
              "  @keyframes spin {\n",
              "    0% {\n",
              "      border-color: transparent;\n",
              "      border-bottom-color: var(--fill-color);\n",
              "      border-left-color: var(--fill-color);\n",
              "    }\n",
              "    20% {\n",
              "      border-color: transparent;\n",
              "      border-left-color: var(--fill-color);\n",
              "      border-top-color: var(--fill-color);\n",
              "    }\n",
              "    30% {\n",
              "      border-color: transparent;\n",
              "      border-left-color: var(--fill-color);\n",
              "      border-top-color: var(--fill-color);\n",
              "      border-right-color: var(--fill-color);\n",
              "    }\n",
              "    40% {\n",
              "      border-color: transparent;\n",
              "      border-right-color: var(--fill-color);\n",
              "      border-top-color: var(--fill-color);\n",
              "    }\n",
              "    60% {\n",
              "      border-color: transparent;\n",
              "      border-right-color: var(--fill-color);\n",
              "    }\n",
              "    80% {\n",
              "      border-color: transparent;\n",
              "      border-right-color: var(--fill-color);\n",
              "      border-bottom-color: var(--fill-color);\n",
              "    }\n",
              "    90% {\n",
              "      border-color: transparent;\n",
              "      border-bottom-color: var(--fill-color);\n",
              "    }\n",
              "  }\n",
              "</style>\n",
              "\n",
              "  <script>\n",
              "    async function quickchart(key) {\n",
              "      const quickchartButtonEl =\n",
              "        document.querySelector('#' + key + ' button');\n",
              "      quickchartButtonEl.disabled = true;  // To prevent multiple clicks.\n",
              "      quickchartButtonEl.classList.add('colab-df-spinner');\n",
              "      try {\n",
              "        const charts = await google.colab.kernel.invokeFunction(\n",
              "            'suggestCharts', [key], {});\n",
              "      } catch (error) {\n",
              "        console.error('Error during call to suggestCharts:', error);\n",
              "      }\n",
              "      quickchartButtonEl.classList.remove('colab-df-spinner');\n",
              "      quickchartButtonEl.classList.add('colab-df-quickchart-complete');\n",
              "    }\n",
              "    (() => {\n",
              "      let quickchartButtonEl =\n",
              "        document.querySelector('#df-2d08d1a6-34a9-4055-add8-a3ab1cfcd95a button');\n",
              "      quickchartButtonEl.style.display =\n",
              "        google.colab.kernel.accessAllowed ? 'block' : 'none';\n",
              "    })();\n",
              "  </script>\n",
              "</div>\n",
              "    </div>\n",
              "  </div>\n"
            ]
          },
          "metadata": {},
          "execution_count": 1
        }
      ]
    },
    {
      "cell_type": "markdown",
      "source": [
        "Veamos si nuestra base de datos contiene valores nulos, por si necesita que realicemos una limpieza."
      ],
      "metadata": {
        "id": "eSMzebCPyJje"
      }
    },
    {
      "cell_type": "code",
      "source": [
        "df.isnull().sum()"
      ],
      "metadata": {
        "id": "bJrqpEeHyDMw",
        "colab": {
          "base_uri": "https://localhost:8080/"
        },
        "outputId": "9dad5cab-0b21-42b5-d498-49a154b08303"
      },
      "execution_count": null,
      "outputs": [
        {
          "output_type": "execute_result",
          "data": {
            "text/plain": [
              "count                       0\n",
              "hate_speech_count           0\n",
              "offensive_language_count    0\n",
              "neither_count               0\n",
              "class                       0\n",
              "tweet                       0\n",
              "dtype: int64"
            ]
          },
          "metadata": {},
          "execution_count": 2
        }
      ]
    },
    {
      "cell_type": "markdown",
      "source": [
        "No contiene valores nulos, por lo que podemos seguir con el preprocesamiento."
      ],
      "metadata": {
        "id": "NZH2FdLzyQ7w"
      }
    },
    {
      "cell_type": "markdown",
      "source": [
        "Para empezar realizaremos el preprocesamiento de nuestra base de datos para poder utilizarlo sin probelma alguno."
      ],
      "metadata": {
        "id": "7_CFOqNwRTdT"
      }
    },
    {
      "cell_type": "markdown",
      "source": [
        "¿Qué hacemos en el preprocesamiento?\n",
        "\n",
        "- **Eliminar URL**:\n",
        "Las URL generalmente no aportan información útil para la clasificación y pueden eliminarse.\n",
        "\n",
        "- **Eliminar nombres de usuario/identificadores**:\n",
        "Los nombres de usuario no suelen contribuir a la clasificación y pueden eliminarse.\n",
        "\n",
        "- **Eliminar caracteres especiales/signos de puntuación**:\n",
        "Elimina caracteres especiales y signos de puntuación que no aporten información valiosa para la clasificación.\n",
        "\n",
        "- **Convertir a minúsculas**:\n",
        "Convierte todo el texto a minúsculas para que las palabras en mayúsculas y minúsculas se traten de la misma manera.\n",
        "\n",
        "- **Eliminar palabras vacías (stopwords)**:\n",
        "Elimina palabras comunes que no aportan mucho significado al texto (como \"el\", \"es\", \"y\", etc.).\n",
        "\n",
        "- **Tokenización**:\n",
        "Divide el texto en palabras individuales (tokens) para facilitar el análisis.\n",
        "\n",
        "- **Lematización o derivación (stemming)**:\n",
        "Reduce las palabras a sus formas base para disminuir la dimensionalidad del conjunto de datos. La lematización generalmente es más sofisticada que el stemming y busca reducir las palabras a sus formas base de manera más precisa.\n",
        "\n",
        "- **Eliminamos los RT**"
      ],
      "metadata": {
        "id": "hjSmT2iIV7or"
      }
    },
    {
      "cell_type": "code",
      "source": [
        "import re\n",
        "import string\n",
        "from nltk.corpus import stopwords\n",
        "from nltk.stem import WordNetLemmatizer\n",
        "from nltk.tokenize import word_tokenize\n",
        "# Descargar recursos de NLTK (solo necesario la primera vez)\n",
        "import nltk\n",
        "nltk.download('stopwords')\n",
        "nltk.download('punkt')\n",
        "nltk.download('wordnet')\n",
        "# Función de preprocesamiento\n",
        "def preprocess_text(text):\n",
        "    # Eliminar URL\n",
        "    text = re.sub(r'http\\S+', '', text)\n",
        "    # Eliminar nombres de usuario/identificadores\n",
        "    text = re.sub(r'@[^\\s]+', '', text)\n",
        "    # Eliminar caracteres especiales y signos de puntuación\n",
        "    text = re.sub('[^A-Za-z0-9]+', ' ', text)\n",
        "    # Convertir a minúsculas\n",
        "    text = text.lower()\n",
        "    # Tokenización\n",
        "    tokens = word_tokenize(text)\n",
        "    # Eliminar palabras vacías\n",
        "    stop_words = set(stopwords.words('english'))\n",
        "    tokens = [word for word in tokens if word not in stop_words]\n",
        "    # Lematización\n",
        "    lemmatizer = WordNetLemmatizer()\n",
        "    tokens = [lemmatizer.lemmatize(word) for word in tokens]\n",
        "    # Unir tokens en un string\n",
        "    processed_text = ' '.join(tokens)\n",
        "    return processed_text\n",
        "# Aplicar preprocesamiento a la columna 'tweet'\n",
        "df['processed_tweet'] = df['tweet'].apply(preprocess_text)\n",
        "# Eliminar RT al principio del tweet\n",
        "df['processed_tweet'] = df['processed_tweet'].replace(to_replace=r'^rt[\\s]+', value='', regex=True)"
      ],
      "metadata": {
        "id": "eSo2EUhPRSos",
        "colab": {
          "base_uri": "https://localhost:8080/"
        },
        "outputId": "1ffa3a34-d4ea-4ec9-dc92-90cf04f6e7e5"
      },
      "execution_count": null,
      "outputs": [
        {
          "output_type": "stream",
          "name": "stderr",
          "text": [
            "[nltk_data] Downloading package stopwords to /root/nltk_data...\n",
            "[nltk_data]   Package stopwords is already up-to-date!\n",
            "[nltk_data] Downloading package punkt to /root/nltk_data...\n",
            "[nltk_data]   Package punkt is already up-to-date!\n",
            "[nltk_data] Downloading package wordnet to /root/nltk_data...\n",
            "[nltk_data]   Package wordnet is already up-to-date!\n"
          ]
        }
      ]
    },
    {
      "cell_type": "markdown",
      "source": [
        "Mostramos los datos una vez preprocesados:"
      ],
      "metadata": {
        "id": "AbWbzhamO2Fn"
      }
    },
    {
      "cell_type": "code",
      "source": [
        "df#.head()"
      ],
      "metadata": {
        "id": "-rwW2DgkR_Q0",
        "colab": {
          "base_uri": "https://localhost:8080/",
          "height": 597
        },
        "outputId": "5ce7c574-a1c5-4a46-a6ff-25174a12fd15"
      },
      "execution_count": null,
      "outputs": [
        {
          "output_type": "execute_result",
          "data": {
            "text/plain": [
              "       count  hate_speech_count  offensive_language_count  neither_count  \\\n",
              "0          3                  0                         0              3   \n",
              "1          3                  0                         3              0   \n",
              "2          3                  0                         3              0   \n",
              "3          3                  0                         2              1   \n",
              "4          6                  0                         6              0   \n",
              "...      ...                ...                       ...            ...   \n",
              "24778      3                  0                         2              1   \n",
              "24779      3                  0                         1              2   \n",
              "24780      3                  0                         3              0   \n",
              "24781      6                  0                         6              0   \n",
              "24782      3                  0                         0              3   \n",
              "\n",
              "       class                                              tweet  \\\n",
              "0          2  !!! RT @mayasolovely: As a woman you shouldn't...   \n",
              "1          1  !!!!! RT @mleew17: boy dats cold...tyga dwn ba...   \n",
              "2          1  !!!!!!! RT @UrKindOfBrand Dawg!!!! RT @80sbaby...   \n",
              "3          1  !!!!!!!!! RT @C_G_Anderson: @viva_based she lo...   \n",
              "4          1  !!!!!!!!!!!!! RT @ShenikaRoberts: The shit you...   \n",
              "...      ...                                                ...   \n",
              "24778      1  you's a muthaf***in lie &#8220;@LifeAsKing: @2...   \n",
              "24779      2  you've gone and broke the wrong heart baby, an...   \n",
              "24780      1  young buck wanna eat!!.. dat nigguh like I ain...   \n",
              "24781      1              youu got wild bitches tellin you lies   \n",
              "24782      2  ~~Ruffled | Ntac Eileen Dahlia - Beautiful col...   \n",
              "\n",
              "                                         processed_tweet  \n",
              "0      woman complain cleaning house amp man always t...  \n",
              "1      boy dat cold tyga dwn bad cuffin dat hoe 1st p...  \n",
              "2        dawg rt ever fuck bitch start cry confused shit  \n",
              "3                                       look like tranny  \n",
              "4      shit hear might true might faker bitch told ya...  \n",
              "...                                                  ...  \n",
              "24778  muthaf lie 8220 right tl trash 8230 mine bible...  \n",
              "24779    gone broke wrong heart baby drove redneck crazy  \n",
              "24780  young buck wan na eat dat nigguh like aint fuc...  \n",
              "24781                     youu got wild bitch tellin lie  \n",
              "24782  ruffled ntac eileen dahlia beautiful color com...  \n",
              "\n",
              "[24783 rows x 7 columns]"
            ],
            "text/html": [
              "\n",
              "  <div id=\"df-78a74a6e-5384-45e2-b32b-5bcbb7c982b5\" class=\"colab-df-container\">\n",
              "    <div>\n",
              "<style scoped>\n",
              "    .dataframe tbody tr th:only-of-type {\n",
              "        vertical-align: middle;\n",
              "    }\n",
              "\n",
              "    .dataframe tbody tr th {\n",
              "        vertical-align: top;\n",
              "    }\n",
              "\n",
              "    .dataframe thead th {\n",
              "        text-align: right;\n",
              "    }\n",
              "</style>\n",
              "<table border=\"1\" class=\"dataframe\">\n",
              "  <thead>\n",
              "    <tr style=\"text-align: right;\">\n",
              "      <th></th>\n",
              "      <th>count</th>\n",
              "      <th>hate_speech_count</th>\n",
              "      <th>offensive_language_count</th>\n",
              "      <th>neither_count</th>\n",
              "      <th>class</th>\n",
              "      <th>tweet</th>\n",
              "      <th>processed_tweet</th>\n",
              "    </tr>\n",
              "  </thead>\n",
              "  <tbody>\n",
              "    <tr>\n",
              "      <th>0</th>\n",
              "      <td>3</td>\n",
              "      <td>0</td>\n",
              "      <td>0</td>\n",
              "      <td>3</td>\n",
              "      <td>2</td>\n",
              "      <td>!!! RT @mayasolovely: As a woman you shouldn't...</td>\n",
              "      <td>woman complain cleaning house amp man always t...</td>\n",
              "    </tr>\n",
              "    <tr>\n",
              "      <th>1</th>\n",
              "      <td>3</td>\n",
              "      <td>0</td>\n",
              "      <td>3</td>\n",
              "      <td>0</td>\n",
              "      <td>1</td>\n",
              "      <td>!!!!! RT @mleew17: boy dats cold...tyga dwn ba...</td>\n",
              "      <td>boy dat cold tyga dwn bad cuffin dat hoe 1st p...</td>\n",
              "    </tr>\n",
              "    <tr>\n",
              "      <th>2</th>\n",
              "      <td>3</td>\n",
              "      <td>0</td>\n",
              "      <td>3</td>\n",
              "      <td>0</td>\n",
              "      <td>1</td>\n",
              "      <td>!!!!!!! RT @UrKindOfBrand Dawg!!!! RT @80sbaby...</td>\n",
              "      <td>dawg rt ever fuck bitch start cry confused shit</td>\n",
              "    </tr>\n",
              "    <tr>\n",
              "      <th>3</th>\n",
              "      <td>3</td>\n",
              "      <td>0</td>\n",
              "      <td>2</td>\n",
              "      <td>1</td>\n",
              "      <td>1</td>\n",
              "      <td>!!!!!!!!! RT @C_G_Anderson: @viva_based she lo...</td>\n",
              "      <td>look like tranny</td>\n",
              "    </tr>\n",
              "    <tr>\n",
              "      <th>4</th>\n",
              "      <td>6</td>\n",
              "      <td>0</td>\n",
              "      <td>6</td>\n",
              "      <td>0</td>\n",
              "      <td>1</td>\n",
              "      <td>!!!!!!!!!!!!! RT @ShenikaRoberts: The shit you...</td>\n",
              "      <td>shit hear might true might faker bitch told ya...</td>\n",
              "    </tr>\n",
              "    <tr>\n",
              "      <th>...</th>\n",
              "      <td>...</td>\n",
              "      <td>...</td>\n",
              "      <td>...</td>\n",
              "      <td>...</td>\n",
              "      <td>...</td>\n",
              "      <td>...</td>\n",
              "      <td>...</td>\n",
              "    </tr>\n",
              "    <tr>\n",
              "      <th>24778</th>\n",
              "      <td>3</td>\n",
              "      <td>0</td>\n",
              "      <td>2</td>\n",
              "      <td>1</td>\n",
              "      <td>1</td>\n",
              "      <td>you's a muthaf***in lie &amp;#8220;@LifeAsKing: @2...</td>\n",
              "      <td>muthaf lie 8220 right tl trash 8230 mine bible...</td>\n",
              "    </tr>\n",
              "    <tr>\n",
              "      <th>24779</th>\n",
              "      <td>3</td>\n",
              "      <td>0</td>\n",
              "      <td>1</td>\n",
              "      <td>2</td>\n",
              "      <td>2</td>\n",
              "      <td>you've gone and broke the wrong heart baby, an...</td>\n",
              "      <td>gone broke wrong heart baby drove redneck crazy</td>\n",
              "    </tr>\n",
              "    <tr>\n",
              "      <th>24780</th>\n",
              "      <td>3</td>\n",
              "      <td>0</td>\n",
              "      <td>3</td>\n",
              "      <td>0</td>\n",
              "      <td>1</td>\n",
              "      <td>young buck wanna eat!!.. dat nigguh like I ain...</td>\n",
              "      <td>young buck wan na eat dat nigguh like aint fuc...</td>\n",
              "    </tr>\n",
              "    <tr>\n",
              "      <th>24781</th>\n",
              "      <td>6</td>\n",
              "      <td>0</td>\n",
              "      <td>6</td>\n",
              "      <td>0</td>\n",
              "      <td>1</td>\n",
              "      <td>youu got wild bitches tellin you lies</td>\n",
              "      <td>youu got wild bitch tellin lie</td>\n",
              "    </tr>\n",
              "    <tr>\n",
              "      <th>24782</th>\n",
              "      <td>3</td>\n",
              "      <td>0</td>\n",
              "      <td>0</td>\n",
              "      <td>3</td>\n",
              "      <td>2</td>\n",
              "      <td>~~Ruffled | Ntac Eileen Dahlia - Beautiful col...</td>\n",
              "      <td>ruffled ntac eileen dahlia beautiful color com...</td>\n",
              "    </tr>\n",
              "  </tbody>\n",
              "</table>\n",
              "<p>24783 rows × 7 columns</p>\n",
              "</div>\n",
              "    <div class=\"colab-df-buttons\">\n",
              "\n",
              "  <div class=\"colab-df-container\">\n",
              "    <button class=\"colab-df-convert\" onclick=\"convertToInteractive('df-78a74a6e-5384-45e2-b32b-5bcbb7c982b5')\"\n",
              "            title=\"Convert this dataframe to an interactive table.\"\n",
              "            style=\"display:none;\">\n",
              "\n",
              "  <svg xmlns=\"http://www.w3.org/2000/svg\" height=\"24px\" viewBox=\"0 -960 960 960\">\n",
              "    <path d=\"M120-120v-720h720v720H120Zm60-500h600v-160H180v160Zm220 220h160v-160H400v160Zm0 220h160v-160H400v160ZM180-400h160v-160H180v160Zm440 0h160v-160H620v160ZM180-180h160v-160H180v160Zm440 0h160v-160H620v160Z\"/>\n",
              "  </svg>\n",
              "    </button>\n",
              "\n",
              "  <style>\n",
              "    .colab-df-container {\n",
              "      display:flex;\n",
              "      gap: 12px;\n",
              "    }\n",
              "\n",
              "    .colab-df-convert {\n",
              "      background-color: #E8F0FE;\n",
              "      border: none;\n",
              "      border-radius: 50%;\n",
              "      cursor: pointer;\n",
              "      display: none;\n",
              "      fill: #1967D2;\n",
              "      height: 32px;\n",
              "      padding: 0 0 0 0;\n",
              "      width: 32px;\n",
              "    }\n",
              "\n",
              "    .colab-df-convert:hover {\n",
              "      background-color: #E2EBFA;\n",
              "      box-shadow: 0px 1px 2px rgba(60, 64, 67, 0.3), 0px 1px 3px 1px rgba(60, 64, 67, 0.15);\n",
              "      fill: #174EA6;\n",
              "    }\n",
              "\n",
              "    .colab-df-buttons div {\n",
              "      margin-bottom: 4px;\n",
              "    }\n",
              "\n",
              "    [theme=dark] .colab-df-convert {\n",
              "      background-color: #3B4455;\n",
              "      fill: #D2E3FC;\n",
              "    }\n",
              "\n",
              "    [theme=dark] .colab-df-convert:hover {\n",
              "      background-color: #434B5C;\n",
              "      box-shadow: 0px 1px 3px 1px rgba(0, 0, 0, 0.15);\n",
              "      filter: drop-shadow(0px 1px 2px rgba(0, 0, 0, 0.3));\n",
              "      fill: #FFFFFF;\n",
              "    }\n",
              "  </style>\n",
              "\n",
              "    <script>\n",
              "      const buttonEl =\n",
              "        document.querySelector('#df-78a74a6e-5384-45e2-b32b-5bcbb7c982b5 button.colab-df-convert');\n",
              "      buttonEl.style.display =\n",
              "        google.colab.kernel.accessAllowed ? 'block' : 'none';\n",
              "\n",
              "      async function convertToInteractive(key) {\n",
              "        const element = document.querySelector('#df-78a74a6e-5384-45e2-b32b-5bcbb7c982b5');\n",
              "        const dataTable =\n",
              "          await google.colab.kernel.invokeFunction('convertToInteractive',\n",
              "                                                    [key], {});\n",
              "        if (!dataTable) return;\n",
              "\n",
              "        const docLinkHtml = 'Like what you see? Visit the ' +\n",
              "          '<a target=\"_blank\" href=https://colab.research.google.com/notebooks/data_table.ipynb>data table notebook</a>'\n",
              "          + ' to learn more about interactive tables.';\n",
              "        element.innerHTML = '';\n",
              "        dataTable['output_type'] = 'display_data';\n",
              "        await google.colab.output.renderOutput(dataTable, element);\n",
              "        const docLink = document.createElement('div');\n",
              "        docLink.innerHTML = docLinkHtml;\n",
              "        element.appendChild(docLink);\n",
              "      }\n",
              "    </script>\n",
              "  </div>\n",
              "\n",
              "\n",
              "<div id=\"df-a78de46c-83b9-4a76-bc56-19cffa8acfd0\">\n",
              "  <button class=\"colab-df-quickchart\" onclick=\"quickchart('df-a78de46c-83b9-4a76-bc56-19cffa8acfd0')\"\n",
              "            title=\"Suggest charts\"\n",
              "            style=\"display:none;\">\n",
              "\n",
              "<svg xmlns=\"http://www.w3.org/2000/svg\" height=\"24px\"viewBox=\"0 0 24 24\"\n",
              "     width=\"24px\">\n",
              "    <g>\n",
              "        <path d=\"M19 3H5c-1.1 0-2 .9-2 2v14c0 1.1.9 2 2 2h14c1.1 0 2-.9 2-2V5c0-1.1-.9-2-2-2zM9 17H7v-7h2v7zm4 0h-2V7h2v10zm4 0h-2v-4h2v4z\"/>\n",
              "    </g>\n",
              "</svg>\n",
              "  </button>\n",
              "\n",
              "<style>\n",
              "  .colab-df-quickchart {\n",
              "      --bg-color: #E8F0FE;\n",
              "      --fill-color: #1967D2;\n",
              "      --hover-bg-color: #E2EBFA;\n",
              "      --hover-fill-color: #174EA6;\n",
              "      --disabled-fill-color: #AAA;\n",
              "      --disabled-bg-color: #DDD;\n",
              "  }\n",
              "\n",
              "  [theme=dark] .colab-df-quickchart {\n",
              "      --bg-color: #3B4455;\n",
              "      --fill-color: #D2E3FC;\n",
              "      --hover-bg-color: #434B5C;\n",
              "      --hover-fill-color: #FFFFFF;\n",
              "      --disabled-bg-color: #3B4455;\n",
              "      --disabled-fill-color: #666;\n",
              "  }\n",
              "\n",
              "  .colab-df-quickchart {\n",
              "    background-color: var(--bg-color);\n",
              "    border: none;\n",
              "    border-radius: 50%;\n",
              "    cursor: pointer;\n",
              "    display: none;\n",
              "    fill: var(--fill-color);\n",
              "    height: 32px;\n",
              "    padding: 0;\n",
              "    width: 32px;\n",
              "  }\n",
              "\n",
              "  .colab-df-quickchart:hover {\n",
              "    background-color: var(--hover-bg-color);\n",
              "    box-shadow: 0 1px 2px rgba(60, 64, 67, 0.3), 0 1px 3px 1px rgba(60, 64, 67, 0.15);\n",
              "    fill: var(--button-hover-fill-color);\n",
              "  }\n",
              "\n",
              "  .colab-df-quickchart-complete:disabled,\n",
              "  .colab-df-quickchart-complete:disabled:hover {\n",
              "    background-color: var(--disabled-bg-color);\n",
              "    fill: var(--disabled-fill-color);\n",
              "    box-shadow: none;\n",
              "  }\n",
              "\n",
              "  .colab-df-spinner {\n",
              "    border: 2px solid var(--fill-color);\n",
              "    border-color: transparent;\n",
              "    border-bottom-color: var(--fill-color);\n",
              "    animation:\n",
              "      spin 1s steps(1) infinite;\n",
              "  }\n",
              "\n",
              "  @keyframes spin {\n",
              "    0% {\n",
              "      border-color: transparent;\n",
              "      border-bottom-color: var(--fill-color);\n",
              "      border-left-color: var(--fill-color);\n",
              "    }\n",
              "    20% {\n",
              "      border-color: transparent;\n",
              "      border-left-color: var(--fill-color);\n",
              "      border-top-color: var(--fill-color);\n",
              "    }\n",
              "    30% {\n",
              "      border-color: transparent;\n",
              "      border-left-color: var(--fill-color);\n",
              "      border-top-color: var(--fill-color);\n",
              "      border-right-color: var(--fill-color);\n",
              "    }\n",
              "    40% {\n",
              "      border-color: transparent;\n",
              "      border-right-color: var(--fill-color);\n",
              "      border-top-color: var(--fill-color);\n",
              "    }\n",
              "    60% {\n",
              "      border-color: transparent;\n",
              "      border-right-color: var(--fill-color);\n",
              "    }\n",
              "    80% {\n",
              "      border-color: transparent;\n",
              "      border-right-color: var(--fill-color);\n",
              "      border-bottom-color: var(--fill-color);\n",
              "    }\n",
              "    90% {\n",
              "      border-color: transparent;\n",
              "      border-bottom-color: var(--fill-color);\n",
              "    }\n",
              "  }\n",
              "</style>\n",
              "\n",
              "  <script>\n",
              "    async function quickchart(key) {\n",
              "      const quickchartButtonEl =\n",
              "        document.querySelector('#' + key + ' button');\n",
              "      quickchartButtonEl.disabled = true;  // To prevent multiple clicks.\n",
              "      quickchartButtonEl.classList.add('colab-df-spinner');\n",
              "      try {\n",
              "        const charts = await google.colab.kernel.invokeFunction(\n",
              "            'suggestCharts', [key], {});\n",
              "      } catch (error) {\n",
              "        console.error('Error during call to suggestCharts:', error);\n",
              "      }\n",
              "      quickchartButtonEl.classList.remove('colab-df-spinner');\n",
              "      quickchartButtonEl.classList.add('colab-df-quickchart-complete');\n",
              "    }\n",
              "    (() => {\n",
              "      let quickchartButtonEl =\n",
              "        document.querySelector('#df-a78de46c-83b9-4a76-bc56-19cffa8acfd0 button');\n",
              "      quickchartButtonEl.style.display =\n",
              "        google.colab.kernel.accessAllowed ? 'block' : 'none';\n",
              "    })();\n",
              "  </script>\n",
              "</div>\n",
              "    </div>\n",
              "  </div>\n"
            ]
          },
          "metadata": {},
          "execution_count": 4
        }
      ]
    },
    {
      "cell_type": "markdown",
      "source": [
        "Ahora tenemos nuestra base de datos sin URL, sin RT, sin palabras vacías, etc..."
      ],
      "metadata": {
        "id": "EBOyK6MtVhW9"
      }
    },
    {
      "cell_type": "markdown",
      "source": [
        "En la columna \"hate_speech_count\" tenemos el número de anotaciones que clasifican un tweet como discurso de odio"
      ],
      "metadata": {
        "id": "A_r8iwS8KL5w"
      }
    },
    {
      "cell_type": "markdown",
      "source": [
        "Primero quiero saber que tipo de variable es:"
      ],
      "metadata": {
        "id": "0mEqKMxQXVUx"
      }
    },
    {
      "cell_type": "code",
      "source": [
        "# Imprime el tipo de variables en la columna \"hate_speech_count\"\n",
        "print(df['hate_speech_count'].dtype)"
      ],
      "metadata": {
        "id": "XTHI3OxoIQ22",
        "colab": {
          "base_uri": "https://localhost:8080/"
        },
        "outputId": "77a9585a-6e95-4339-8dc1-922df4e510cf"
      },
      "execution_count": null,
      "outputs": [
        {
          "output_type": "stream",
          "name": "stdout",
          "text": [
            "int64\n"
          ]
        }
      ]
    },
    {
      "cell_type": "markdown",
      "source": [
        "Y después la cantidad de valores únicos de dicha columna:"
      ],
      "metadata": {
        "id": "WOzlbVwvXhON"
      }
    },
    {
      "cell_type": "code",
      "source": [
        "# Cuenta la cantidad de valores únicos en la columna 'hate_speech_count'\n",
        "cantidad_valores_unicos = df['hate_speech_count'].nunique()\n",
        "print(f\"La cantidad de valores únicos en la columna 'hate_speech_count' es: {cantidad_valores_unicos}\")"
      ],
      "metadata": {
        "id": "7tI15_ffIv_i",
        "colab": {
          "base_uri": "https://localhost:8080/"
        },
        "outputId": "0a0e8883-4486-4fe3-c62f-b89614192a00"
      },
      "execution_count": null,
      "outputs": [
        {
          "output_type": "stream",
          "name": "stdout",
          "text": [
            "La cantidad de valores únicos en la columna 'hate_speech_count' es: 8\n"
          ]
        }
      ]
    },
    {
      "cell_type": "markdown",
      "source": [
        "Finalmente queremos saber la frecuencia de cada valor:"
      ],
      "metadata": {
        "id": "B-VrX_6pXn0J"
      }
    },
    {
      "cell_type": "code",
      "source": [
        "# Muestra la frecuencia de cada valor único en la columna 'hate_speech_count'\n",
        "frecuencia_valores = df['hate_speech_count'].value_counts()\n",
        "print(f\"Frecuencia de cada valor único en la columna 'hate_speech_count':\\n{frecuencia_valores}\")"
      ],
      "metadata": {
        "id": "AOSVoLMmIzyg",
        "colab": {
          "base_uri": "https://localhost:8080/"
        },
        "outputId": "85ddb473-b4a5-4282-e5ba-78af01613a89"
      },
      "execution_count": null,
      "outputs": [
        {
          "output_type": "stream",
          "name": "stdout",
          "text": [
            "Frecuencia de cada valor único en la columna 'hate_speech_count':\n",
            "0    19790\n",
            "1     3419\n",
            "2     1251\n",
            "3      287\n",
            "4       21\n",
            "5        7\n",
            "6        5\n",
            "7        3\n",
            "Name: hate_speech_count, dtype: int64\n"
          ]
        }
      ]
    },
    {
      "cell_type": "markdown",
      "source": [
        "¿Por qué queremos saber esto?\n",
        "\n",
        "Queremos etiquetar los tweet para saber si son ofensivos o no.\n",
        "\n",
        "0 -> no serán ofensivos\n",
        "\n",
        "1 -> serán ofensivos"
      ],
      "metadata": {
        "id": "JQHt3y57Y3s-"
      }
    },
    {
      "cell_type": "code",
      "source": [
        "import matplotlib.pyplot as plt\n",
        "\n",
        "# Extrae los valores y frecuencias para graficarlo\n",
        "valores = frecuencia_valores.index\n",
        "frecuencias = frecuencia_valores.values\n",
        "\n",
        "# Crea un histograma para ver la distrubución de los valores\n",
        "plt.bar(valores, frecuencias)\n",
        "\n",
        "# Ajusta la escala del eje y a logarítmica para que se muestren todas las barras\n",
        "plt.yscale('log')\n",
        "\n",
        "# Configura manualmente las etiquetas del eje 'y' marcando las frecuencias\n",
        "yticks = frecuencias\n",
        "yticklabels = [str(val) for val in yticks]\n",
        "plt.yticks(yticks, yticklabels)\n",
        "\n",
        "plt.show()"
      ],
      "metadata": {
        "id": "w-zqu0HiXT3X",
        "colab": {
          "base_uri": "https://localhost:8080/",
          "height": 430
        },
        "outputId": "4c8686c9-6035-450e-fe3b-77fe9818fa40"
      },
      "execution_count": null,
      "outputs": [
        {
          "output_type": "display_data",
          "data": {
            "text/plain": [
              "<Figure size 640x480 with 1 Axes>"
            ],
            "image/png": "[encoded data removed]"
          },
          "metadata": {}
        }
      ]
    },
    {
      "cell_type": "markdown",
      "source": [
        "Debido a la distribución de las anotaciones, diremos que de 0 - 1 serán comentarios no ofensivos (0) y de 2 - 7 serán comentarios ofensivos (1). Separandolo en base a la cantidad de datos agrupados. Además, hay que tener en cuenta que estamos en la varible \"hate_speech_count\" por lo que el  nivel de odio será mayor que en la varible \"offensive_language_count\""
      ],
      "metadata": {
        "id": "qUg7t7UwtZA5"
      }
    },
    {
      "cell_type": "code",
      "source": [
        "# Cuenta la cantidad de valores únicos en la columna 'offensive_language_count'\n",
        "cantidad_valores_unicos2 = df['offensive_language_count'].nunique()\n",
        "print(f\"La cantidad de valores únicos en la columna 'offensive_language_count' es: {cantidad_valores_unicos2}\")"
      ],
      "metadata": {
        "id": "V_Fz5NXML5Yp",
        "colab": {
          "base_uri": "https://localhost:8080/"
        },
        "outputId": "cd6f0831-6c44-4a4d-80cf-88307477ee26"
      },
      "execution_count": null,
      "outputs": [
        {
          "output_type": "stream",
          "name": "stdout",
          "text": [
            "La cantidad de valores únicos en la columna 'offensive_language_count' es: 10\n"
          ]
        }
      ]
    },
    {
      "cell_type": "code",
      "source": [
        "# Muestra la frecuencia de cada valor único en la columna 'hate_speech_count'\n",
        "frecuencia_valores2 = df['offensive_language_count'].value_counts()\n",
        "print(f\"Frecuencia de cada valor único en la columna 'offensive_language_count':\\n{frecuencia_valores2}\")"
      ],
      "metadata": {
        "id": "jnDk2t1_MLcI",
        "colab": {
          "base_uri": "https://localhost:8080/"
        },
        "outputId": "4b32def2-8704-4ad5-9176-f002ccc41cab"
      },
      "execution_count": null,
      "outputs": [
        {
          "output_type": "stream",
          "name": "stdout",
          "text": [
            "Frecuencia de cada valor único en la columna 'offensive_language_count':\n",
            "3    13383\n",
            "2     4246\n",
            "0     3475\n",
            "1     2066\n",
            "6      857\n",
            "5      369\n",
            "4      251\n",
            "9       66\n",
            "8       37\n",
            "7       33\n",
            "Name: offensive_language_count, dtype: int64\n"
          ]
        }
      ]
    },
    {
      "cell_type": "code",
      "source": [
        "# Extrae los valores y frecuencias para graficarlo\n",
        "valores = frecuencia_valores2.index\n",
        "frecuencias = frecuencia_valores2.values\n",
        "\n",
        "# Crea un histograma para ver la distrubución de los valores\n",
        "plt.bar(valores, frecuencias)\n",
        "\n",
        "# Ajusta la escala del eje y a logarítmica para que se muestren todas las barras\n",
        "plt.yscale('log')\n",
        "\n",
        "# Configura manualmente las etiquetas del eje y marcando las frecuencias\n",
        "yticks = frecuencias\n",
        "yticklabels = [str(val) for val in yticks]\n",
        "plt.yticks(yticks, yticklabels)\n",
        "\n",
        "plt.show()"
      ],
      "metadata": {
        "colab": {
          "base_uri": "https://localhost:8080/",
          "height": 430
        },
        "id": "bPosFqo7sxNV",
        "outputId": "3585bb42-f751-4006-f2d5-d931bdc00047"
      },
      "execution_count": null,
      "outputs": [
        {
          "output_type": "display_data",
          "data": {
            "text/plain": [
              "<Figure size 640x480 with 1 Axes>"
            ],
            "image/png": "[encoded data removed]"
          },
          "metadata": {}
        }
      ]
    },
    {
      "cell_type": "markdown",
      "source": [
        "Sin embargo, en la variable \"offensive_language_count\" tenemos 10 valores únicos y su frecuencia está (más o menos) distribuida.\n",
        "\n",
        "En esta caso, como se tratan de comentarios que pueden ofender o no (depende del receptor), partiremos por la mitad los comentarios ofensivos o no.\n",
        "\n",
        "Entonces, de 0-4 serán comentarios no ofensivos y de 5-9 comentarios ofensivos."
      ],
      "metadata": {
        "id": "oMUYM-DTt7Oa"
      }
    },
    {
      "cell_type": "code",
      "source": [
        "# Sustituir valores en el rango 0 - 1 por 0 y en el rango 2 - 7 por 1 en la columna 'hate_speech_count'\n",
        "df['hate_speech_count'].loc[df['hate_speech_count'].between(0, 1)] = 0\n",
        "df['hate_speech_count'].loc[df['hate_speech_count'].between(2, 7)] = 1"
      ],
      "metadata": {
        "id": "mY4d8F6jzLN7",
        "colab": {
          "base_uri": "https://localhost:8080/"
        },
        "outputId": "27baee3c-7206-4977-b056-c2728a0690ca"
      },
      "execution_count": null,
      "outputs": [
        {
          "output_type": "stream",
          "name": "stderr",
          "text": [
            "<ipython-input-12-08a782775aa3>:2: SettingWithCopyWarning: \n",
            "A value is trying to be set on a copy of a slice from a DataFrame\n",
            "\n",
            "See the caveats in the documentation: https://pandas.pydata.org/pandas-docs/stable/user_guide/indexing.html#returning-a-view-versus-a-copy\n",
            "  df['hate_speech_count'].loc[df['hate_speech_count'].between(0, 1)] = 0\n",
            "<ipython-input-12-08a782775aa3>:3: SettingWithCopyWarning: \n",
            "A value is trying to be set on a copy of a slice from a DataFrame\n",
            "\n",
            "See the caveats in the documentation: https://pandas.pydata.org/pandas-docs/stable/user_guide/indexing.html#returning-a-view-versus-a-copy\n",
            "  df['hate_speech_count'].loc[df['hate_speech_count'].between(2, 7)] = 1\n"
          ]
        }
      ]
    },
    {
      "cell_type": "code",
      "source": [
        "# Sustituir valores en el rango 0 - 4 por 0 y en el rango 5 - 9 por 1 en la columna 'offensive_language_count'\n",
        "df['offensive_language_count'].loc[df['offensive_language_count'].between(0, 4)] = 0\n",
        "df['offensive_language_count'].loc[df['offensive_language_count'].between(5, 9)] = 1"
      ],
      "metadata": {
        "id": "PuXN3-Bv0cfX",
        "colab": {
          "base_uri": "https://localhost:8080/"
        },
        "outputId": "ba42dda8-0b83-4df5-c4f2-31b5abdcd389"
      },
      "execution_count": null,
      "outputs": [
        {
          "output_type": "stream",
          "name": "stderr",
          "text": [
            "<ipython-input-13-af9a0929ad51>:2: SettingWithCopyWarning: \n",
            "A value is trying to be set on a copy of a slice from a DataFrame\n",
            "\n",
            "See the caveats in the documentation: https://pandas.pydata.org/pandas-docs/stable/user_guide/indexing.html#returning-a-view-versus-a-copy\n",
            "  df['offensive_language_count'].loc[df['offensive_language_count'].between(0, 4)] = 0\n",
            "<ipython-input-13-af9a0929ad51>:3: SettingWithCopyWarning: \n",
            "A value is trying to be set on a copy of a slice from a DataFrame\n",
            "\n",
            "See the caveats in the documentation: https://pandas.pydata.org/pandas-docs/stable/user_guide/indexing.html#returning-a-view-versus-a-copy\n",
            "  df['offensive_language_count'].loc[df['offensive_language_count'].between(5, 9)] = 1\n"
          ]
        }
      ]
    },
    {
      "cell_type": "markdown",
      "source": [
        "Eliminamos la columna de tweet para no crear confusión"
      ],
      "metadata": {
        "id": "0x8GhRLz173r"
      }
    },
    {
      "cell_type": "code",
      "source": [
        "# Eliminar la columna 'tweets'\n",
        "df.drop('tweet', axis=1, inplace=True)"
      ],
      "metadata": {
        "id": "8fRtAzl815hJ"
      },
      "execution_count": null,
      "outputs": []
    },
    {
      "cell_type": "code",
      "source": [
        "# Cambiar el nombre de la columna 'processed_tweet' a 'tweet'\n",
        "df.rename(columns={'processed_tweet': 'tweet'}, inplace=True)"
      ],
      "metadata": {
        "id": "TA9eh0o9387P"
      },
      "execution_count": null,
      "outputs": []
    },
    {
      "cell_type": "code",
      "source": [
        "import numpy as np\n",
        "# Compara las columnas y crea la nueva columna 'etiquetas'\n",
        "df['etiquetas'] = np.where(df['hate_speech_count'] == df['offensive_language_count'],\n",
        "                           df['hate_speech_count'], 1)"
      ],
      "metadata": {
        "id": "uHhISK-A4ad0"
      },
      "execution_count": null,
      "outputs": []
    },
    {
      "cell_type": "markdown",
      "source": [
        "Comparamos las columnas de **hate_speech_count** y **offensive_language_count** de forma que si alguna de las variables o las dos estan clasificadas en 1, en la nueva etiqueta se pondrá un 1 clasificandolo como discurso de odio y en caso contrario se asignará un 0."
      ],
      "metadata": {
        "id": "-47b63OA8vQi"
      }
    },
    {
      "cell_type": "markdown",
      "source": [
        "Ahora, queremos visualizar los datos de **hate_speech_count** y **offensive_language_count** para saber la distribución de los que sean  0 (no discurso de odio) y los que sean 1 (discurso de odio) que se presenta en la base de datos.\n",
        "\n",
        "Para ello, vamos a utilizar dos tipos de gráficas: gráfica de barras y una gráfica de tipo pastel."
      ],
      "metadata": {
        "id": "VSLqhQ6RgnoC"
      }
    },
    {
      "cell_type": "code",
      "source": [
        "df"
      ],
      "metadata": {
        "id": "PTHsxXEm4c9t",
        "colab": {
          "base_uri": "https://localhost:8080/",
          "height": 458
        },
        "outputId": "8fdc1f64-b8f8-4f46-ff85-a8d090f88654"
      },
      "execution_count": null,
      "outputs": [
        {
          "output_type": "execute_result",
          "data": {
            "text/plain": [
              "       count  hate_speech_count  offensive_language_count  neither_count  \\\n",
              "0          3                  0                         0              3   \n",
              "1          3                  0                         0              0   \n",
              "2          3                  0                         0              0   \n",
              "3          3                  0                         0              1   \n",
              "4          6                  0                         1              0   \n",
              "...      ...                ...                       ...            ...   \n",
              "24778      3                  0                         0              1   \n",
              "24779      3                  0                         0              2   \n",
              "24780      3                  0                         0              0   \n",
              "24781      6                  0                         1              0   \n",
              "24782      3                  0                         0              3   \n",
              "\n",
              "       class                                              tweet  etiquetas  \n",
              "0          2  woman complain cleaning house amp man always t...          0  \n",
              "1          1  boy dat cold tyga dwn bad cuffin dat hoe 1st p...          0  \n",
              "2          1    dawg rt ever fuck bitch start cry confused shit          0  \n",
              "3          1                                   look like tranny          0  \n",
              "4          1  shit hear might true might faker bitch told ya...          1  \n",
              "...      ...                                                ...        ...  \n",
              "24778      1  muthaf lie 8220 right tl trash 8230 mine bible...          0  \n",
              "24779      2    gone broke wrong heart baby drove redneck crazy          0  \n",
              "24780      1  young buck wan na eat dat nigguh like aint fuc...          0  \n",
              "24781      1                     youu got wild bitch tellin lie          1  \n",
              "24782      2  ruffled ntac eileen dahlia beautiful color com...          0  \n",
              "\n",
              "[24783 rows x 7 columns]"
            ],
            "text/html": [
              "\n",
              "  <div id=\"df-c4e59b14-a726-4ac3-8d8a-9072b4cbf7d1\" class=\"colab-df-container\">\n",
              "    <div>\n",
              "<style scoped>\n",
              "    .dataframe tbody tr th:only-of-type {\n",
              "        vertical-align: middle;\n",
              "    }\n",
              "\n",
              "    .dataframe tbody tr th {\n",
              "        vertical-align: top;\n",
              "    }\n",
              "\n",
              "    .dataframe thead th {\n",
              "        text-align: right;\n",
              "    }\n",
              "</style>\n",
              "<table border=\"1\" class=\"dataframe\">\n",
              "  <thead>\n",
              "    <tr style=\"text-align: right;\">\n",
              "      <th></th>\n",
              "      <th>count</th>\n",
              "      <th>hate_speech_count</th>\n",
              "      <th>offensive_language_count</th>\n",
              "      <th>neither_count</th>\n",
              "      <th>class</th>\n",
              "      <th>tweet</th>\n",
              "      <th>etiquetas</th>\n",
              "    </tr>\n",
              "  </thead>\n",
              "  <tbody>\n",
              "    <tr>\n",
              "      <th>0</th>\n",
              "      <td>3</td>\n",
              "      <td>0</td>\n",
              "      <td>0</td>\n",
              "      <td>3</td>\n",
              "      <td>2</td>\n",
              "      <td>woman complain cleaning house amp man always t...</td>\n",
              "      <td>0</td>\n",
              "    </tr>\n",
              "    <tr>\n",
              "      <th>1</th>\n",
              "      <td>3</td>\n",
              "      <td>0</td>\n",
              "      <td>0</td>\n",
              "      <td>0</td>\n",
              "      <td>1</td>\n",
              "      <td>boy dat cold tyga dwn bad cuffin dat hoe 1st p...</td>\n",
              "      <td>0</td>\n",
              "    </tr>\n",
              "    <tr>\n",
              "      <th>2</th>\n",
              "      <td>3</td>\n",
              "      <td>0</td>\n",
              "      <td>0</td>\n",
              "      <td>0</td>\n",
              "      <td>1</td>\n",
              "      <td>dawg rt ever fuck bitch start cry confused shit</td>\n",
              "      <td>0</td>\n",
              "    </tr>\n",
              "    <tr>\n",
              "      <th>3</th>\n",
              "      <td>3</td>\n",
              "      <td>0</td>\n",
              "      <td>0</td>\n",
              "      <td>1</td>\n",
              "      <td>1</td>\n",
              "      <td>look like tranny</td>\n",
              "      <td>0</td>\n",
              "    </tr>\n",
              "    <tr>\n",
              "      <th>4</th>\n",
              "      <td>6</td>\n",
              "      <td>0</td>\n",
              "      <td>1</td>\n",
              "      <td>0</td>\n",
              "      <td>1</td>\n",
              "      <td>shit hear might true might faker bitch told ya...</td>\n",
              "      <td>1</td>\n",
              "    </tr>\n",
              "    <tr>\n",
              "      <th>...</th>\n",
              "      <td>...</td>\n",
              "      <td>...</td>\n",
              "      <td>...</td>\n",
              "      <td>...</td>\n",
              "      <td>...</td>\n",
              "      <td>...</td>\n",
              "      <td>...</td>\n",
              "    </tr>\n",
              "    <tr>\n",
              "      <th>24778</th>\n",
              "      <td>3</td>\n",
              "      <td>0</td>\n",
              "      <td>0</td>\n",
              "      <td>1</td>\n",
              "      <td>1</td>\n",
              "      <td>muthaf lie 8220 right tl trash 8230 mine bible...</td>\n",
              "      <td>0</td>\n",
              "    </tr>\n",
              "    <tr>\n",
              "      <th>24779</th>\n",
              "      <td>3</td>\n",
              "      <td>0</td>\n",
              "      <td>0</td>\n",
              "      <td>2</td>\n",
              "      <td>2</td>\n",
              "      <td>gone broke wrong heart baby drove redneck crazy</td>\n",
              "      <td>0</td>\n",
              "    </tr>\n",
              "    <tr>\n",
              "      <th>24780</th>\n",
              "      <td>3</td>\n",
              "      <td>0</td>\n",
              "      <td>0</td>\n",
              "      <td>0</td>\n",
              "      <td>1</td>\n",
              "      <td>young buck wan na eat dat nigguh like aint fuc...</td>\n",
              "      <td>0</td>\n",
              "    </tr>\n",
              "    <tr>\n",
              "      <th>24781</th>\n",
              "      <td>6</td>\n",
              "      <td>0</td>\n",
              "      <td>1</td>\n",
              "      <td>0</td>\n",
              "      <td>1</td>\n",
              "      <td>youu got wild bitch tellin lie</td>\n",
              "      <td>1</td>\n",
              "    </tr>\n",
              "    <tr>\n",
              "      <th>24782</th>\n",
              "      <td>3</td>\n",
              "      <td>0</td>\n",
              "      <td>0</td>\n",
              "      <td>3</td>\n",
              "      <td>2</td>\n",
              "      <td>ruffled ntac eileen dahlia beautiful color com...</td>\n",
              "      <td>0</td>\n",
              "    </tr>\n",
              "  </tbody>\n",
              "</table>\n",
              "<p>24783 rows × 7 columns</p>\n",
              "</div>\n",
              "    <div class=\"colab-df-buttons\">\n",
              "\n",
              "  <div class=\"colab-df-container\">\n",
              "    <button class=\"colab-df-convert\" onclick=\"convertToInteractive('df-c4e59b14-a726-4ac3-8d8a-9072b4cbf7d1')\"\n",
              "            title=\"Convert this dataframe to an interactive table.\"\n",
              "            style=\"display:none;\">\n",
              "\n",
              "  <svg xmlns=\"http://www.w3.org/2000/svg\" height=\"24px\" viewBox=\"0 -960 960 960\">\n",
              "    <path d=\"M120-120v-720h720v720H120Zm60-500h600v-160H180v160Zm220 220h160v-160H400v160Zm0 220h160v-160H400v160ZM180-400h160v-160H180v160Zm440 0h160v-160H620v160ZM180-180h160v-160H180v160Zm440 0h160v-160H620v160Z\"/>\n",
              "  </svg>\n",
              "    </button>\n",
              "\n",
              "  <style>\n",
              "    .colab-df-container {\n",
              "      display:flex;\n",
              "      gap: 12px;\n",
              "    }\n",
              "\n",
              "    .colab-df-convert {\n",
              "      background-color: #E8F0FE;\n",
              "      border: none;\n",
              "      border-radius: 50%;\n",
              "      cursor: pointer;\n",
              "      display: none;\n",
              "      fill: #1967D2;\n",
              "      height: 32px;\n",
              "      padding: 0 0 0 0;\n",
              "      width: 32px;\n",
              "    }\n",
              "\n",
              "    .colab-df-convert:hover {\n",
              "      background-color: #E2EBFA;\n",
              "      box-shadow: 0px 1px 2px rgba(60, 64, 67, 0.3), 0px 1px 3px 1px rgba(60, 64, 67, 0.15);\n",
              "      fill: #174EA6;\n",
              "    }\n",
              "\n",
              "    .colab-df-buttons div {\n",
              "      margin-bottom: 4px;\n",
              "    }\n",
              "\n",
              "    [theme=dark] .colab-df-convert {\n",
              "      background-color: #3B4455;\n",
              "      fill: #D2E3FC;\n",
              "    }\n",
              "\n",
              "    [theme=dark] .colab-df-convert:hover {\n",
              "      background-color: #434B5C;\n",
              "      box-shadow: 0px 1px 3px 1px rgba(0, 0, 0, 0.15);\n",
              "      filter: drop-shadow(0px 1px 2px rgba(0, 0, 0, 0.3));\n",
              "      fill: #FFFFFF;\n",
              "    }\n",
              "  </style>\n",
              "\n",
              "    <script>\n",
              "      const buttonEl =\n",
              "        document.querySelector('#df-c4e59b14-a726-4ac3-8d8a-9072b4cbf7d1 button.colab-df-convert');\n",
              "      buttonEl.style.display =\n",
              "        google.colab.kernel.accessAllowed ? 'block' : 'none';\n",
              "\n",
              "      async function convertToInteractive(key) {\n",
              "        const element = document.querySelector('#df-c4e59b14-a726-4ac3-8d8a-9072b4cbf7d1');\n",
              "        const dataTable =\n",
              "          await google.colab.kernel.invokeFunction('convertToInteractive',\n",
              "                                                    [key], {});\n",
              "        if (!dataTable) return;\n",
              "\n",
              "        const docLinkHtml = 'Like what you see? Visit the ' +\n",
              "          '<a target=\"_blank\" href=https://colab.research.google.com/notebooks/data_table.ipynb>data table notebook</a>'\n",
              "          + ' to learn more about interactive tables.';\n",
              "        element.innerHTML = '';\n",
              "        dataTable['output_type'] = 'display_data';\n",
              "        await google.colab.output.renderOutput(dataTable, element);\n",
              "        const docLink = document.createElement('div');\n",
              "        docLink.innerHTML = docLinkHtml;\n",
              "        element.appendChild(docLink);\n",
              "      }\n",
              "    </script>\n",
              "  </div>\n",
              "\n",
              "\n",
              "<div id=\"df-38833ca9-7dfa-4594-94f7-980ec45f501d\">\n",
              "  <button class=\"colab-df-quickchart\" onclick=\"quickchart('df-38833ca9-7dfa-4594-94f7-980ec45f501d')\"\n",
              "            title=\"Suggest charts\"\n",
              "            style=\"display:none;\">\n",
              "\n",
              "<svg xmlns=\"http://www.w3.org/2000/svg\" height=\"24px\"viewBox=\"0 0 24 24\"\n",
              "     width=\"24px\">\n",
              "    <g>\n",
              "        <path d=\"M19 3H5c-1.1 0-2 .9-2 2v14c0 1.1.9 2 2 2h14c1.1 0 2-.9 2-2V5c0-1.1-.9-2-2-2zM9 17H7v-7h2v7zm4 0h-2V7h2v10zm4 0h-2v-4h2v4z\"/>\n",
              "    </g>\n",
              "</svg>\n",
              "  </button>\n",
              "\n",
              "<style>\n",
              "  .colab-df-quickchart {\n",
              "      --bg-color: #E8F0FE;\n",
              "      --fill-color: #1967D2;\n",
              "      --hover-bg-color: #E2EBFA;\n",
              "      --hover-fill-color: #174EA6;\n",
              "      --disabled-fill-color: #AAA;\n",
              "      --disabled-bg-color: #DDD;\n",
              "  }\n",
              "\n",
              "  [theme=dark] .colab-df-quickchart {\n",
              "      --bg-color: #3B4455;\n",
              "      --fill-color: #D2E3FC;\n",
              "      --hover-bg-color: #434B5C;\n",
              "      --hover-fill-color: #FFFFFF;\n",
              "      --disabled-bg-color: #3B4455;\n",
              "      --disabled-fill-color: #666;\n",
              "  }\n",
              "\n",
              "  .colab-df-quickchart {\n",
              "    background-color: var(--bg-color);\n",
              "    border: none;\n",
              "    border-radius: 50%;\n",
              "    cursor: pointer;\n",
              "    display: none;\n",
              "    fill: var(--fill-color);\n",
              "    height: 32px;\n",
              "    padding: 0;\n",
              "    width: 32px;\n",
              "  }\n",
              "\n",
              "  .colab-df-quickchart:hover {\n",
              "    background-color: var(--hover-bg-color);\n",
              "    box-shadow: 0 1px 2px rgba(60, 64, 67, 0.3), 0 1px 3px 1px rgba(60, 64, 67, 0.15);\n",
              "    fill: var(--button-hover-fill-color);\n",
              "  }\n",
              "\n",
              "  .colab-df-quickchart-complete:disabled,\n",
              "  .colab-df-quickchart-complete:disabled:hover {\n",
              "    background-color: var(--disabled-bg-color);\n",
              "    fill: var(--disabled-fill-color);\n",
              "    box-shadow: none;\n",
              "  }\n",
              "\n",
              "  .colab-df-spinner {\n",
              "    border: 2px solid var(--fill-color);\n",
              "    border-color: transparent;\n",
              "    border-bottom-color: var(--fill-color);\n",
              "    animation:\n",
              "      spin 1s steps(1) infinite;\n",
              "  }\n",
              "\n",
              "  @keyframes spin {\n",
              "    0% {\n",
              "      border-color: transparent;\n",
              "      border-bottom-color: var(--fill-color);\n",
              "      border-left-color: var(--fill-color);\n",
              "    }\n",
              "    20% {\n",
              "      border-color: transparent;\n",
              "      border-left-color: var(--fill-color);\n",
              "      border-top-color: var(--fill-color);\n",
              "    }\n",
              "    30% {\n",
              "      border-color: transparent;\n",
              "      border-left-color: var(--fill-color);\n",
              "      border-top-color: var(--fill-color);\n",
              "      border-right-color: var(--fill-color);\n",
              "    }\n",
              "    40% {\n",
              "      border-color: transparent;\n",
              "      border-right-color: var(--fill-color);\n",
              "      border-top-color: var(--fill-color);\n",
              "    }\n",
              "    60% {\n",
              "      border-color: transparent;\n",
              "      border-right-color: var(--fill-color);\n",
              "    }\n",
              "    80% {\n",
              "      border-color: transparent;\n",
              "      border-right-color: var(--fill-color);\n",
              "      border-bottom-color: var(--fill-color);\n",
              "    }\n",
              "    90% {\n",
              "      border-color: transparent;\n",
              "      border-bottom-color: var(--fill-color);\n",
              "    }\n",
              "  }\n",
              "</style>\n",
              "\n",
              "  <script>\n",
              "    async function quickchart(key) {\n",
              "      const quickchartButtonEl =\n",
              "        document.querySelector('#' + key + ' button');\n",
              "      quickchartButtonEl.disabled = true;  // To prevent multiple clicks.\n",
              "      quickchartButtonEl.classList.add('colab-df-spinner');\n",
              "      try {\n",
              "        const charts = await google.colab.kernel.invokeFunction(\n",
              "            'suggestCharts', [key], {});\n",
              "      } catch (error) {\n",
              "        console.error('Error during call to suggestCharts:', error);\n",
              "      }\n",
              "      quickchartButtonEl.classList.remove('colab-df-spinner');\n",
              "      quickchartButtonEl.classList.add('colab-df-quickchart-complete');\n",
              "    }\n",
              "    (() => {\n",
              "      let quickchartButtonEl =\n",
              "        document.querySelector('#df-38833ca9-7dfa-4594-94f7-980ec45f501d button');\n",
              "      quickchartButtonEl.style.display =\n",
              "        google.colab.kernel.accessAllowed ? 'block' : 'none';\n",
              "    })();\n",
              "  </script>\n",
              "</div>\n",
              "    </div>\n",
              "  </div>\n"
            ]
          },
          "metadata": {},
          "execution_count": 17
        }
      ]
    },
    {
      "cell_type": "code",
      "source": [
        "import matplotlib.pyplot as plt\n",
        "import pandas as pd\n",
        "\n",
        "\n",
        "# Gráfico de barras\n",
        "plt.figure(figsize=(10, 5))\n",
        "\n",
        "plt.subplot(1, 2, 1)\n",
        "df['offensive_language_count'].value_counts().sort_index().plot(kind='bar', color=['green', 'orange'])\n",
        "plt.title('Distribución de offensive_language_count')\n",
        "plt.xlabel('Valor')\n",
        "plt.ylabel('Cantidad')\n",
        "\n",
        "plt.subplot(1, 2, 2)\n",
        "df['hate_speech_count'].value_counts().sort_index().plot(kind='bar', color=['green', 'orange'])\n",
        "plt.title('Distribución de hate_speech_count')\n",
        "plt.xlabel('Valor')\n",
        "plt.ylabel('Cantidad')\n",
        "\n",
        "plt.tight_layout()\n",
        "plt.show()\n",
        "\n",
        "# Gráfico de pastel (pie chart)\n",
        "plt.figure(figsize=(10, 5))\n",
        "\n",
        "plt.subplot(1, 2, 1)\n",
        "df['offensive_language_count'].value_counts().plot(kind='pie', autopct='%1.1f%%', colors=['green', 'orange'])\n",
        "plt.title('Distribución de offensive_language_count')\n",
        "\n",
        "plt.subplot(1, 2, 2)\n",
        "df['hate_speech_count'].value_counts().plot(kind='pie', autopct='%1.1f%%', colors=['green', 'orange'])\n",
        "plt.title('Distribución de hate_speech_count')\n",
        "\n",
        "plt.tight_layout()\n",
        "plt.show()"
      ],
      "metadata": {
        "id": "IGlBEPSxgOP9",
        "colab": {
          "base_uri": "https://localhost:8080/",
          "height": 1000
        },
        "outputId": "ac7dc027-ee11-40d9-edb9-9176c875cdb7"
      },
      "execution_count": null,
      "outputs": [
        {
          "output_type": "display_data",
          "data": {
            "text/plain": [
              "<Figure size 1000x500 with 2 Axes>"
            ],
            "image/png": "[encoded data removed]"
          },
          "metadata": {}
        },
        {
          "output_type": "display_data",
          "data": {
            "text/plain": [
              "<Figure size 1000x500 with 2 Axes>"
            ],
            "image/png": "[encoded data removed]"
          },
          "metadata": {}
        }
      ]
    },
    {
      "cell_type": "code",
      "source": [
        "tweet = list(df['tweet'])\n",
        "labels = list(df['etiquetas'])"
      ],
      "metadata": {
        "id": "kdC-k2bmLxA3"
      },
      "execution_count": null,
      "outputs": []
    },
    {
      "cell_type": "code",
      "source": [
        "from sklearn.model_selection import train_test_split\n",
        "X_train, X_test, y_train, y_test = train_test_split(tweet, labels, test_size=0.2, random_state=42)"
      ],
      "metadata": {
        "id": "twa00OjPMOBx"
      },
      "execution_count": null,
      "outputs": []
    },
    {
      "cell_type": "code",
      "source": [
        "X_train[0]"
      ],
      "metadata": {
        "id": "I1w1LdaMNjn2",
        "colab": {
          "base_uri": "https://localhost:8080/",
          "height": 36
        },
        "outputId": "05677806-592c-4ec7-d862-f5b662c2474f"
      },
      "execution_count": null,
      "outputs": [
        {
          "output_type": "execute_result",
          "data": {
            "text/plain": [
              "'well else white ppl get u forget horrific past paint pretty picture ho 8230'"
            ],
            "application/vnd.google.colaboratory.intrinsic+json": {
              "type": "string"
            }
          },
          "metadata": {},
          "execution_count": 21
        }
      ]
    },
    {
      "cell_type": "markdown",
      "source": [
        "Para convertir los comentarios de los tweets (que generalmente son texto) en vectores de números para alimentarlos a una red neuronal, podemos utilizar técnicas de procesamiento de lenguaje natural (PLN) como la tokenización y la representación vectorial de palabras."
      ],
      "metadata": {
        "id": "iUOhUcR5OG8J"
      }
    },
    {
      "cell_type": "code",
      "source": [
        "from sklearn.feature_extraction.text import CountVectorizer\n",
        "from keras.preprocessing.text import Tokenizer\n",
        "from keras.preprocessing.sequence import pad_sequences\n",
        "# Supongamos que X_train es una lista de comentarios de tweets\n",
        "# Usar Tokenizer de Keras para tokenizar y convertir el texto en secuencias de números\n",
        "tokenizer = Tokenizer()\n",
        "tokenizer.fit_on_texts(X_train)\n",
        "# Tokenize the train and test dataset\n",
        "X_train = tokenizer.texts_to_sequences(X_train)\n",
        "X_test = tokenizer.texts_to_sequences(X_test)"
      ],
      "metadata": {
        "id": "ClI4u8r4PZJj"
      },
      "execution_count": null,
      "outputs": []
    },
    {
      "cell_type": "code",
      "source": [
        "print(X_test[0])"
      ],
      "metadata": {
        "id": "XPPomHZCRk-p",
        "colab": {
          "base_uri": "https://localhost:8080/"
        },
        "outputId": "d9214ea5-fa5d-4d20-f7f2-e44709be0c80"
      },
      "execution_count": null,
      "outputs": [
        {
          "output_type": "stream",
          "name": "stdout",
          "text": [
            "[8, 1415, 65, 27, 1]\n"
          ]
        }
      ]
    },
    {
      "cell_type": "code",
      "source": [
        "print(X_train[0])"
      ],
      "metadata": {
        "id": "wZyLjX_UPii0",
        "colab": {
          "base_uri": "https://localhost:8080/"
        },
        "outputId": "da5ec763-e82c-487a-f158-6d7c91209566"
      },
      "execution_count": null,
      "outputs": [
        {
          "output_type": "stream",
          "name": "stdout",
          "text": [
            "[141, 411, 55, 489, 10, 11, 570, 7835, 704, 1443, 236, 303, 132, 18]\n"
          ]
        }
      ]
    },
    {
      "cell_type": "markdown",
      "source": [
        "Este código calcula el tamaño del vocabulario, es decir, el número total de palabras únicas presentes en los datos de entrenamiento:"
      ],
      "metadata": {
        "id": "ect9FA5_T3rY"
      }
    },
    {
      "cell_type": "code",
      "source": [
        "vocab_size = len(tokenizer.word_index) + 1\n",
        "print(vocab_size)"
      ],
      "metadata": {
        "id": "t9YZ63CmQOOQ",
        "colab": {
          "base_uri": "https://localhost:8080/"
        },
        "outputId": "42dbb9aa-98b3-4e4d-dc23-f49725c82db0"
      },
      "execution_count": null,
      "outputs": [
        {
          "output_type": "stream",
          "name": "stdout",
          "text": [
            "16817\n"
          ]
        }
      ]
    },
    {
      "cell_type": "code",
      "source": [
        "## Padding -> to uniform the datas\n",
        "max_length = max(len(seq) for seq in X_train)\n",
        "# to test an outlier case (if one of the test dataset has longer length)\n",
        "for x in X_test:\n",
        "    if len(x) > max_length:\n",
        "        print(f\"an outlier detected: {x}\")\n",
        "\n",
        "X_train = pad_sequences(X_train, maxlen = max_length)\n",
        "X_test = pad_sequences(X_test, maxlen = max_length)"
      ],
      "metadata": {
        "id": "YkW4jnk0UIMn",
        "colab": {
          "base_uri": "https://localhost:8080/"
        },
        "outputId": "f028fcb1-c9f4-41c0-ca6f-778a36565471"
      },
      "execution_count": null,
      "outputs": [
        {
          "output_type": "stream",
          "name": "stdout",
          "text": [
            "an outlier detected: [21, 34, 23, 712, 1856, 1, 1555, 1555, 1555, 1555, 1555, 1555, 1555, 1555, 1555, 1555, 1555, 1555, 1555, 1555, 1555, 1555, 1555, 1555, 1555, 1555, 1555, 1555, 1555, 1555, 1555, 1555, 1555, 1555, 1555, 1555, 1555, 1555, 1555, 1555, 1555, 1555, 1555, 1555, 1555, 1555, 1555, 1555, 1555, 1555, 1555, 1555, 1555, 1555, 1555, 1555, 1555, 1555, 1555, 1555, 1555, 1555, 1555, 1555, 1555, 1555, 1555, 1555, 1555, 1555, 1555, 1555, 1555, 1555, 1555, 1555, 1555, 1555, 1555, 1555, 1555, 18]\n",
            "an outlier detected: [787, 176, 3308, 3308, 3308, 3308, 3308, 3308, 3308, 3308, 3308, 3308, 3308, 3308, 3308, 3308, 3308, 3308, 3308, 3308, 3308, 3308, 3308, 3308, 3308, 3308, 3308, 3308, 3308, 3308, 3308, 3308, 3308, 3308, 3308, 3308, 3308, 3308, 3308, 3308, 3308, 3308, 3308, 3308, 3308, 3308, 3308, 3308, 3308, 3308, 3308, 3308, 3308, 3308, 3308, 3308, 3308, 3308, 3308, 3308, 3308, 3308, 3308, 3308, 3308, 3308, 3308, 97, 61, 176, 45, 213, 1, 9]\n"
          ]
        }
      ]
    },
    {
      "cell_type": "markdown",
      "source": [
        "## **Construcción de la red**"
      ],
      "metadata": {
        "id": "EPQyk-RMVXJ-"
      }
    },
    {
      "cell_type": "code",
      "source": [
        "from tensorflow.keras import models, layers\n",
        "from tensorflow.keras.utils import plot_model\n",
        "\n",
        "model = models.Sequential()\n",
        "# Entrada, un tensor con la crítica vectorizada (max_length valores)\n",
        "model.add(layers.Dense(8, activation='relu', input_shape=(max_length,)))\n",
        "model.add(layers.Dense(8, activation='relu'))\n",
        "model.add(layers.Dense(1, activation='sigmoid'))"
      ],
      "metadata": {
        "id": "iwQyrdA_VbqC"
      },
      "execution_count": null,
      "outputs": []
    },
    {
      "cell_type": "code",
      "source": [
        "model.compile(optimizer='rmsprop',\n",
        "              loss='binary_crossentropy',\n",
        "              metrics=['accuracy'])"
      ],
      "metadata": {
        "id": "UD4B3qzCWrMH"
      },
      "execution_count": null,
      "outputs": []
    },
    {
      "cell_type": "code",
      "source": [
        "from tensorflow.keras import optimizers\n",
        "model.compile(optimizer=optimizers.RMSprop(learning_rate=0.001),\n",
        "              loss='binary_crossentropy',\n",
        "              metrics=['accuracy'])"
      ],
      "metadata": {
        "id": "X--dtWsnWxXR"
      },
      "execution_count": null,
      "outputs": []
    },
    {
      "cell_type": "code",
      "source": [
        "from keras import losses\n",
        "from keras import metrics\n",
        "model.compile(optimizer=optimizers.RMSprop(learning_rate=0.001),\n",
        "              loss=losses.binary_crossentropy,\n",
        "              metrics=[metrics.binary_accuracy])\n",
        "\n",
        "plot_model(model, to_file='model_architecture.png', show_shapes=True, show_layer_names=True)"
      ],
      "metadata": {
        "id": "sAgJtU3jW2ic",
        "colab": {
          "base_uri": "https://localhost:8080/",
          "height": 422
        },
        "outputId": "764ceec9-ae15-45f3-bf6b-45dda0f152cd"
      },
      "execution_count": null,
      "outputs": [
        {
          "output_type": "execute_result",
          "data": {
            "image/png": "[encoded data removed]",
            "text/plain": [
              "<IPython.core.display.Image object>"
            ]
          },
          "metadata": {},
          "execution_count": 30
        }
      ]
    },
    {
      "cell_type": "markdown",
      "source": [
        "A continuación realizaremos una explicación detallada de la construcción de la arquitectura de nuestra red:\n",
        "\n",
        "- Inicializamos el modelo con \"**model = models.Sequential()**\", que crea un modelo secuencial en Keras. Los modelos secuenciales son una pila lineal de capas donde cada capa tiene exactamente un tensor de entrada y uno de salida.\n",
        "\n",
        "- Agregamos capas al modelo con \"**model.add(layers.Dense(8, activation='relu', input_shape=(max_length,)))**\", que añade una capa densamente conectada (también conocida como capa completamente conectada) al modelo. La capa tiene 8 neuronas y utiliza la función de activación ReLU (Rectified Linear Unit). El parámetro \"**input_shape**\" define la forma del tensor de entrada y \"**max_length**\" es la longitud del vector de entrada.\n",
        "Como se puede apreciar contamos con dos capas de este tipo. Por último,\"**model.add(layers.Dense(1, activation='sigmoid'))**\" es la capa de salida. Contiene una sola neurona y utiliza la función de activación sigmoide. Dicha función es adecuada para problemas de clasificación binaria.\n",
        "\n",
        "- Compilamos el modelo con \"**model.compile(...)**\". Esta función se encarga de configurar el modelo para el entrenamiento. Se realizan varias llamadas a \"**model.compile**\", pero es la última la que tiene efecto. El optimizador es \"**optimizer='rmsprop'**\", que define el optimizador RMSprop con una tasa de aprendizaje de 0.001. Para la función de perdida \"**loss='binary_crossentropy**\" establece la función de pérdida para la clasificación binaria. \"Binary crossentropy\" es una elección común para problemas de clasificación binaria.\n",
        "\n",
        "- Finalmente empleamos \"**plot_model(model, to_file='model_architecture.png', show_shapes=True, show_layer_names=True)**\" para visualizar la arquitectura de la red.\n",
        "\n",
        "\n"
      ],
      "metadata": {
        "id": "NiyJG2VJMpIF"
      }
    },
    {
      "cell_type": "markdown",
      "source": [
        "## **Validar nuestra aproximación**"
      ],
      "metadata": {
        "id": "rwFn7KPaW7DX"
      }
    },
    {
      "cell_type": "code",
      "source": [
        "x_val = X_train[:2500]\n",
        "partial_x_train = X_train[2500:]\n",
        "\n",
        "y_val = y_train[:2500]\n",
        "partial_y_train = y_train[2500:]"
      ],
      "metadata": {
        "id": "59oHMMsSW_8o"
      },
      "execution_count": null,
      "outputs": []
    },
    {
      "cell_type": "code",
      "source": [
        "import numpy as np\n",
        "x_val = np.array(x_val)\n",
        "y_val = np.array(y_val)\n",
        "partial_x_train = np.array(partial_x_train)\n",
        "partial_y_train = np.array(partial_y_train)"
      ],
      "metadata": {
        "id": "p5sE4Hs6bXtU"
      },
      "execution_count": null,
      "outputs": []
    },
    {
      "cell_type": "code",
      "source": [
        "model.compile(optimizer='rmsprop',\n",
        "              loss='binary_crossentropy',\n",
        "              metrics=['acc'])"
      ],
      "metadata": {
        "id": "QKWy4A_tkTBZ"
      },
      "execution_count": null,
      "outputs": []
    },
    {
      "cell_type": "code",
      "source": [
        "history = model.fit(partial_x_train,\n",
        "                    partial_y_train,\n",
        "                    epochs=20,\n",
        "                    batch_size=64,\n",
        "                    validation_data=(x_val, y_val))"
      ],
      "metadata": {
        "id": "mBnNOVp0XTUV",
        "colab": {
          "base_uri": "https://localhost:8080/"
        },
        "outputId": "834edfa4-9d84-489c-b907-72234916c70d"
      },
      "execution_count": null,
      "outputs": [
        {
          "output_type": "stream",
          "name": "stdout",
          "text": [
            "Epoch 1/20\n",
            "271/271 [==============================] - 2s 4ms/step - loss: 15.0054 - acc: 0.7894 - val_loss: 4.0449 - val_acc: 0.7816\n",
            "Epoch 2/20\n",
            "271/271 [==============================] - 1s 3ms/step - loss: 3.3547 - acc: 0.8186 - val_loss: 1.5792 - val_acc: 0.8112\n",
            "Epoch 3/20\n",
            "271/271 [==============================] - 1s 3ms/step - loss: 1.3464 - acc: 0.8459 - val_loss: 0.7168 - val_acc: 0.8724\n",
            "Epoch 4/20\n",
            "271/271 [==============================] - 1s 3ms/step - loss: 0.7616 - acc: 0.8582 - val_loss: 0.5628 - val_acc: 0.8612\n",
            "Epoch 5/20\n",
            "271/271 [==============================] - 1s 2ms/step - loss: 0.5646 - acc: 0.8644 - val_loss: 0.4963 - val_acc: 0.8388\n",
            "Epoch 6/20\n",
            "271/271 [==============================] - 1s 3ms/step - loss: 0.4928 - acc: 0.8696 - val_loss: 0.4179 - val_acc: 0.8784\n",
            "Epoch 7/20\n",
            "271/271 [==============================] - 1s 3ms/step - loss: 0.4404 - acc: 0.8741 - val_loss: 0.4017 - val_acc: 0.8792\n",
            "Epoch 8/20\n",
            "271/271 [==============================] - 1s 4ms/step - loss: 0.4261 - acc: 0.8750 - val_loss: 0.4024 - val_acc: 0.8808\n",
            "Epoch 9/20\n",
            "271/271 [==============================] - 1s 5ms/step - loss: 0.4209 - acc: 0.8761 - val_loss: 0.3870 - val_acc: 0.8804\n",
            "Epoch 10/20\n",
            "271/271 [==============================] - 1s 3ms/step - loss: 0.4103 - acc: 0.8775 - val_loss: 0.3805 - val_acc: 0.8808\n",
            "Epoch 11/20\n",
            "271/271 [==============================] - 1s 3ms/step - loss: 0.3936 - acc: 0.8780 - val_loss: 0.3801 - val_acc: 0.8812\n",
            "Epoch 12/20\n",
            "271/271 [==============================] - 1s 3ms/step - loss: 0.3884 - acc: 0.8805 - val_loss: 0.3692 - val_acc: 0.8812\n",
            "Epoch 13/20\n",
            "271/271 [==============================] - 1s 3ms/step - loss: 0.3797 - acc: 0.8806 - val_loss: 0.3684 - val_acc: 0.8812\n",
            "Epoch 14/20\n",
            "271/271 [==============================] - 1s 2ms/step - loss: 0.3750 - acc: 0.8816 - val_loss: 0.3697 - val_acc: 0.8808\n",
            "Epoch 15/20\n",
            "271/271 [==============================] - 1s 2ms/step - loss: 0.3724 - acc: 0.8816 - val_loss: 0.3791 - val_acc: 0.8808\n",
            "Epoch 16/20\n",
            "271/271 [==============================] - 1s 3ms/step - loss: 0.3754 - acc: 0.8817 - val_loss: 0.3710 - val_acc: 0.8812\n",
            "Epoch 17/20\n",
            "271/271 [==============================] - 1s 2ms/step - loss: 0.3765 - acc: 0.8817 - val_loss: 0.3722 - val_acc: 0.8804\n",
            "Epoch 18/20\n",
            "271/271 [==============================] - 1s 3ms/step - loss: 0.3722 - acc: 0.8813 - val_loss: 0.3799 - val_acc: 0.8812\n",
            "Epoch 19/20\n",
            "271/271 [==============================] - 1s 3ms/step - loss: 0.3730 - acc: 0.8819 - val_loss: 0.3842 - val_acc: 0.8812\n",
            "Epoch 20/20\n",
            "271/271 [==============================] - 1s 3ms/step - loss: 0.3772 - acc: 0.8817 - val_loss: 0.3762 - val_acc: 0.8800\n"
          ]
        }
      ]
    },
    {
      "cell_type": "markdown",
      "source": [
        "En esta sección comenzamos dividiendo los datos es dos lotes: el lote de entrenamiento y el lote de validación.\n",
        "\n",
        "- El fragmento \"**x_val = X_train[:2500] y y_val = y_train[:2500]**\" separa los primeros 2500 ejemplos del conjunto de entrenamiento **X_train** y sus correspondientes etiquetas **y_train** y los asignan a **x_val** y **y_val**, respectivamente. Es decir, estos serán utilizados como datos de validación.\n",
        "\n",
        "- \"**partial_x_train = X_train[2500:] y partial_y_train = y_train[2500:]**\" toma el resto de los datos del conjunto de entrenamiento y los asignan a **partial_x_train** y **partial_y_train**; que serán utilizados para el entrenamiento del modelo.\n",
        "\n",
        "La siguiente celda de nuestro código se encarga de transformar los datos a \"Arrays de NumPy\", puesto que es el formato de datos preferido para entrenar modelos en Keras.\n",
        "\n",
        "A continuación compilamos el modelo empleando la configuracción previamente mencionada (**model.compile(...)**,\n",
        "**optimizer='rmsprop'**,\n",
        "**loss='binary_crossentropy'**,\n",
        "**metrics=['acc']**).\n",
        "\n",
        "Por último se realiza el entrenamiento de nuestro modelo:\n",
        "\n",
        "- Iniciamos el proceso de entrenamiento del modelo con los datos proporcionados empleando **\"history = model.fit(...)**\" .\n",
        "\n",
        "\n",
        "- Como mencionamos anteriormente, **partial_x_train** y **partial_y_train** son los datos y etiquetas de entrenamiento, respectivamente.\n",
        "\n",
        "- El modelo se entrenará durante 20 \"epochs\" (**epochs=20** ) siendo cada \"epoch\" es una iteración sobre todo el conjunto de datos de entrenamiento.\n",
        "- Los datos se pasarán al modelo en lotes (batches) de 64 ejemplos a la vez(**batch_size=64**).\n",
        "\n",
        "- A su vez el modelo también será evaluado en el conjunto de validación que hemos separado previamente (**validation_data=(x_val, y_val)**).\n",
        "\n",
        "* La llamada a ``model.fit()`` devuelve un objeto ``History``. Este objeto tiene un **atributo ``history``**, que es un **diccionario** que contiene datos sobre **todo lo que sucedió durante el entrenamiento**.\n",
        "\n",
        "Como se puede apreciar, el modelo logra una precisión del 88,12% en la \"epoch\" 11. Tras realizar varias pruebas podemos afirmar que ese es el límite de precisión al que puede llegar dada la configuración actual; y este se suele alzanzar entre las \"epochs\" 5 y 15 dependiendo de la inicialización aleatoria de los pesos"
      ],
      "metadata": {
        "id": "OHi9b3ZBRqMj"
      }
    },
    {
      "cell_type": "code",
      "source": [
        "history_dict = history.history\n",
        "history_dict.keys()\n",
        "print(history_dict['loss'])\n",
        "print(history_dict['acc'])\n",
        "print(history_dict['val_loss'])\n",
        "print(history_dict['val_acc'])"
      ],
      "metadata": {
        "id": "U2OE5TIvdiWb",
        "colab": {
          "base_uri": "https://localhost:8080/"
        },
        "outputId": "a857a1fc-a972-44c3-94db-b62a4373e20c"
      },
      "execution_count": null,
      "outputs": [
        {
          "output_type": "stream",
          "name": "stdout",
          "text": [
            "[15.005414009094238, 3.3547070026397705, 1.3464124202728271, 0.7615824341773987, 0.5646205544471741, 0.49283894896507263, 0.4404408633708954, 0.4261004626750946, 0.4208817481994629, 0.41027987003326416, 0.3936164379119873, 0.3884146213531494, 0.37971463799476624, 0.37502989172935486, 0.3723832070827484, 0.37543225288391113, 0.37652575969696045, 0.3721844553947449, 0.37300798296928406, 0.3771885931491852]\n",
            "[0.7894493937492371, 0.8185963034629822, 0.8458963632583618, 0.8581900000572205, 0.864423394203186, 0.869560182094574, 0.8741198182106018, 0.8749855756759644, 0.876082181930542, 0.8774673938751221, 0.8780445456504822, 0.8804686665534973, 0.8806418180465698, 0.881565272808075, 0.881565272808075, 0.8816807270050049, 0.8816807270050049, 0.8812766671180725, 0.88191157579422, 0.8816807270050049]\n",
            "[4.044864654541016, 1.5791583061218262, 0.7168091535568237, 0.5628424286842346, 0.4963286221027374, 0.417878121137619, 0.401676207780838, 0.40242013335227966, 0.3870336413383484, 0.3805087208747864, 0.38012439012527466, 0.36924004554748535, 0.3683718144893646, 0.36971044540405273, 0.379071980714798, 0.37098097801208496, 0.3722316324710846, 0.3798879384994507, 0.38423487544059753, 0.37623223662376404]\n",
            "[0.7815999984741211, 0.8112000226974487, 0.8723999857902527, 0.8611999750137329, 0.8388000130653381, 0.8784000277519226, 0.8791999816894531, 0.8808000087738037, 0.8804000020027161, 0.8808000087738037, 0.8812000155448914, 0.8812000155448914, 0.8812000155448914, 0.8808000087738037, 0.8808000087738037, 0.8812000155448914, 0.8804000020027161, 0.8812000155448914, 0.8812000155448914, 0.8799999952316284]\n"
          ]
        }
      ]
    },
    {
      "cell_type": "markdown",
      "source": [
        "* El diccionario contiene 4 entradas: una por métrica que se estaba monitorizando durante el entrenamiento y durante la validación.\n",
        "* Usaremos **Matplotlib** para graficar la **pérdida** de **entrenamiento** y la de **validación** una al lado de otra, así como la **precisión** de **entrenamiento** y **validación**:\n",
        "* Las posibles diferencias entre una ejecución y otra es debida a la inicialización aleatoria de los pesos"
      ],
      "metadata": {
        "id": "sBwLsGoueSgi"
      }
    },
    {
      "cell_type": "code",
      "source": [
        "import matplotlib.pyplot as plt\n",
        "\n",
        "acc = history.history['acc']\n",
        "val_acc = history.history['val_acc']\n",
        "loss = history.history['loss']\n",
        "val_loss = history.history['val_loss']\n",
        "\n",
        "epochs = range(1, len(acc) + 1)\n",
        "\n",
        "# \"bo\" es para \"punto azul\"\n",
        "plt.plot(epochs, loss, 'bo', label='Pérdida de Entrenamiento')\n",
        "# \"b\" es para \"linea continua azul\"\n",
        "plt.plot(epochs, val_loss, 'b', label='Pérdida de Validación')\n",
        "plt.title('Pérdida de Entrenamiento y Validación')\n",
        "plt.xlabel('Epochs')\n",
        "plt.ylabel('Loss')\n",
        "plt.legend()\n",
        "\n",
        "plt.show()"
      ],
      "metadata": {
        "id": "KosrfRI1c38k",
        "colab": {
          "base_uri": "https://localhost:8080/",
          "height": 472
        },
        "outputId": "53b48aae-b7ea-4c3c-ff65-102a6a15d548"
      },
      "execution_count": null,
      "outputs": [
        {
          "output_type": "display_data",
          "data": {
            "text/plain": [
              "<Figure size 640x480 with 1 Axes>"
            ],
            "image/png": "[encoded data removed]"
          },
          "metadata": {}
        }
      ]
    },
    {
      "cell_type": "markdown",
      "source": [
        "Tras importar la librería correspondiente (**\"import matplotlib.pyplot as plt**\"), extraemos los datos obtenidos del \"history\" para obtener la pérdida y la precisión del modelo en cada época (**acc = history.history['acc'] y val_acc = history.history['val_acc'], loss = history.history['loss'] y val_loss = history.history['val_loss']**). Tras crear una secuencia de números que representan cada época empleando \"**epochs = range(1, len(acc) + 1)**\" creamos un gráfico de la pérdida de entrenamiento (loss) para cada época (**plt.plot(epochs, loss, 'bo', label='Pérdida de Entrenamiento')**). Se representa mediante puntos azules. Para finalizar la gráfica, se establecen las etiquetas, la leyenda y el titulo correspondientes (**plt.xlabel('Epochs'), plt.ylabel('Loss'), plt.legend(),lt.title('Pérdida de Entrenamiento y Validación')**) y se imprime con **plt.show()**.\n",
        "\n",
        "En nuestra gráfica se puede apreciar que la progresión de la perdida es muy estable y ,asimismo, se ajusta a lo que esperabamos de este modelo. Los valores de perdida más bajos se encuentran en la perdida de validación, lo cual es un indicador de que no se ha producido sobreentrenamiento. Otro indicador de ello es, como se puede observar de forma gráfica, que la perdida de entrenamiento es pareja a la de validación a lo largo de todas las iteraciones y mantiene una tendecia estable. Esto es un claro indicador de que se mantiene la generalidad del sistema tras el entrenamiento, pues obtiene los mismos resultados para un lote diferente de datos."
      ],
      "metadata": {
        "id": "QeB4dh38YlB9"
      }
    },
    {
      "cell_type": "code",
      "source": [
        "plt.clf()   # Limpia la figura\n",
        "acc_values = history_dict['acc']\n",
        "val_acc_values = history_dict['val_acc']\n",
        "\n",
        "plt.plot(epochs, acc, 'bo', label='Precisión de Entrenamiento')\n",
        "plt.plot(epochs, val_acc, 'b', label='Precisión de Validación')\n",
        "plt.title('Precisión de Entrenamiento y Valización')\n",
        "plt.xlabel('Epochs')\n",
        "plt.ylabel('Loss')\n",
        "plt.legend()\n",
        "\n",
        "plt.show()"
      ],
      "metadata": {
        "id": "SQwNjWMzc_ym",
        "colab": {
          "base_uri": "https://localhost:8080/",
          "height": 472
        },
        "outputId": "2b360f5d-8820-4e87-a0d3-1c37e2feac12"
      },
      "execution_count": null,
      "outputs": [
        {
          "output_type": "display_data",
          "data": {
            "text/plain": [
              "<Figure size 640x480 with 1 Axes>"
            ],
            "image/png": "[encoded data removed]"
          },
          "metadata": {}
        }
      ]
    },
    {
      "cell_type": "markdown",
      "source": [
        "Continuando con la evaluación gráfica del rendimiento de nuestro modelo, ahora nos enfocamos en la precisión, que es la otra métrica clave para entender cómo está funcionando la arquitectura. Primero, limpiamos la figura anterior con plt.clf(), lo que nos permite empezar con un lienzo limpio para la nueva visualización.\n",
        "\n",
        "A continuación, realizamos el mismo proceso para los valores de precisión de entrenamiento y validación (**acc_values = history_dict['acc'] y val_acc_values = history_dict['val_acc']**), modificando solamente el contenido de las etiquetas para cambiar la palabra \"perdida\" por \"precisión\"(**plt.plot(epochs, acc, 'bo', label='Precisión de Entrenamiento')) (plt.plot(epochs, val_acc, 'b', label='Precisión de Validación'))**).\n",
        "\n",
        "Aunque para esta métrica la gráfica también muestra resultados bastante satisfactorios, hay algunos aspectos que hacen que los resultados sean ligeramente peores a los de la pérdida.\n",
        "\n",
        "En primer lugar se puede apreciar un \"pico\" muy pronunciado en la precisión de validación en la \"epoch\" 5 (aunque la variación real no es muy grande, en un modelo tan constante es bastante notable), lo cual indica, con bastante probabilidad, que el sistema ha pasado por alto un mínimo local.\n",
        "\n",
        "También se puede observar un ligero sobreentrenamiento, pues la precisión de validación más alta que alcanza el modelo es 0.8812 mientras que para la precisión de entrenamiento es 0.8819. Aunque tan solo se trata de una diferencia centesimal, podemos afirmar que es sobreentrenamiento pues a lo largo de las diferentes pruebas la precisión de validación nunca ha superado dicho valor. Por lo tanto, podemos asumir que el modelo ha logrado \"acostumbrarse\" a ciertos criterios del lote de entrenamiento, perdiendo un poco de generalidad que le permite alcanzar esa escasa cantidad de precisión añadida para el lote de entrenamiento.\n",
        "\n",
        "Aun con todo, la tendencia de la gráfica es muy estable y constante; alcanzando una precisión de clasificación del 88,12%."
      ],
      "metadata": {
        "id": "a3J9Eoqx29xL"
      }
    },
    {
      "cell_type": "markdown",
      "source": [
        "# Proceso del trabajo"
      ],
      "metadata": {
        "id": "nvX5_oJXocP6"
      }
    },
    {
      "cell_type": "markdown",
      "source": [
        "La primera decisión y la más determinante del trabajo consistió en determinar el corte en el número de anotaciones de las variables \"offensive_language_count\" y \"hate_speech_count\".\n",
        "\n",
        "De primeras, determinamos dicho \"corte\" de la siguiente forma:\n",
        "\n",
        "  - En la variable \"hate_speech_count\", establecimos que las anotaciones que varían de 0 a 1 se clasificarian como 0, indicando la ausencia de discurso de odio. En contraste, las anotaciones que cayesen en el rango de 2 a 7 se designarian como 1, lo que implica que el tweet ha sido clasificado como contenido de discurso de odio.\n",
        "\n",
        "  - En el contexto de la variable \"offensive_language_count\", se tomó la decisión de que un tweet no sería clasificado como discurso de odio si las anotaciones realizadas caían en el rango de 0 - 4. En contraste, se estableció que las anotaciones en el rango de 5 - 9 indicarían que el tweet debería ser clasificado como discurso de odio. Esta determinación se aplicó anteriormente como parte de un proceso de revisión."
      ],
      "metadata": {
        "id": "JE_AebN4RQwt"
      }
    },
    {
      "cell_type": "markdown",
      "source": [
        "Sin embargo, queríamos comprobar que nuestra clasificación según las anotaciones en las variables fuese correcta, para ello nos adentramos en la base de datos y leímos algunos tweets y comprobamos si la clasificación era correcta en la columna de etiquetas."
      ],
      "metadata": {
        "id": "YuEuomiW3Bn6"
      }
    },
    {
      "cell_type": "markdown",
      "source": [
        "Para nuestra sorpresa había algunos tweets que nos parecían bastante ofensivos y, sin embargo, no estaban clasificados como discurso de odio.\n",
        "\n",
        "Por lo que, decidimos cambiar los rangos de nuevo.\n",
        "\n",
        "Determinamos el nuevo \"corte\" de la siguiente forma:\n",
        "\n",
        "  - En la variable \"hate_speech_count\", se estableció que las anotaciones con valor igual a 0 serían asignadas como 0, indicando la ausencia de discurso de odio. En contraste, se decidió que las anotaciones en el rango de 1 - 7 se asignarían como 1, clasificando así al tweet como contenido de discurso de odio. Esta determinación fue aplicada en una revisión previa del proceso.\n",
        "\n",
        "  - Para la varieble \"offensive_language_count\", se tomó la decisión de que un tweet no sería clasificado como discurso de odio si las anotaciones realizadas caían en el rango de 0 - 3. En contraste, se determinó que las anotaciones en el rango de 4 - 9 indicarían que el tweet debería ser clasificado como discurso de odio. Esta determinación fue aplicada en una revisión previa del proceso."
      ],
      "metadata": {
        "id": "wj9JrAsU5_BT"
      }
    },
    {
      "cell_type": "markdown",
      "source": [
        "Realizamos la construcción de la red neuronal y el correspondiente entrenamiento. La precisión con el primer intervalo de los datos alcanzaba 0.8,\n",
        "sin embargo al usar el segundo intervalo la precisión bajó a 0.39, el cual es un valor bastante pequeño teniendo en cuenta el tipo de problema con el que estamos tratando; por lo que dejamos el primer intervalo.\n",
        "\n",
        "Tras selecionar el intervalo de los datos nos andentramos en la arquitectura de res. Este primer modelo constaba de dos capas densamente conectadas con 16 neuronas cada una y una tercera capa de salida con función de activación sigmoidea. El entrenamiento se realizaba en lotes de 512 muestras durante 20 etapas y con una tasa de aprendizaje de 0.001. A pesar de que la precisión de este modelo era bastante alta, presentaba resultados algo inconsistentes con fluctuaciones en los valores de las métricas, sobreentrenamiento, muchos picos en las gráficas... etc\n",
        "\n",
        "Tratando de optimizar el modelo llevamos a cabo muchas modificaciones en los hiperparámetros para mejorar el rendimiento, sin embargo, la mayoría de modificaciones en dichos parametros no tenían el impacto esperado en los resultados finales. Esto contrasta con experiencias de prácticas anteriores con otros modelos, en los que el ajuste de hiperparámetros inducían cambios más significativos. Entre los ajustes hiperparamétricos que no han producido los efectos esperados se incluyen la tasa de aprendizaje, el número de capas en la arquitectura de la red y el compilador; los cuales optamos finalmente por dejar igual para todas las pruebas.\n",
        "\n",
        "Finalmente, mediante un proceso de prueba-error llegamos a la configuración actual de nuestra arquitectura, que es la que nos ha dado mejores resultados. Como ha sido detallado anteriormente, nuestro modelo es bastante sencillo, pues consta  de dos capas densamente conectadas con 8 neuronas cada una y una tercera capa de salida con función de activación sigmoidea.\n",
        "Los ajustes del entrenamiento también son bastante estándar, teniendo 20 \"epochs\" (epochs=20) en lotes de 64 muestras (batch_size=64).\n",
        "                   "
      ],
      "metadata": {
        "id": "2joN1ER169Pj"
      }
    },
    {
      "cell_type": "markdown",
      "source": [
        "# Conclusiones\n",
        "\n",
        "Nos gustaría finalizar esta práctica recapitulando algunas de las impresiones que nos han surgido a lo largo del desarrollo.\n",
        "\n",
        "En primer lugar, puesto que no se trata de un problema muy complejo a nivel computacional debido al tipo y volumen de datos, hemos llegado a una apreciación: “a veces menos es más”. Al tener una cantidad de datos limitada, el emplear una arquitectura más grande y compleja puede no solo suponer un gasto mayor de recursos y tiempo para entrenarse adecuadamente, si no que además puede generar una peor generalización y problemas de sobreentrenamiento. Por lo que en ocasiones una arquitectura más modesta converge más rápido y es más eficiente\n",
        "\n",
        "\n",
        " Otro de los puntos más relevantes, es la importancia del preprocesamiento de los datos. En este caso, la forma en la que son seleccionados los datos y cómo se establecen los intervalos afecta en gran manera al resultado final del modelo. Esto se hizo evidente  cuando al modificar el intervalo seleccionado la precisión de clasificación aumentó de 0.39 a 0.80.\n",
        "\n",
        "Por último, creemos firmemente que la realización de modelos que resuelven problemas de esta índole es uno de los mejores usos que se le puede dar a las redes neuronales hoy en día. Aunque somos conscientes del problema que supone equilibrar efectivamente la censura con la libertad de expresión, es necesario desarrollar este tipo de herramientas con la necesidad de proteger a los individuos del ciberacoso. Por lo tanto, hemos quedado bastante satisfechos con el modelo desarrollado, pues es capaz de percibir si el texto procesado se trata de un discurso de odio  o no con hasta un 88.12% de precisión, lo cual es un resultado bastante satisfactorio.\n"
      ],
      "metadata": {
        "id": "n82uQ0N7ox3q"
      }
    }
  ]
}